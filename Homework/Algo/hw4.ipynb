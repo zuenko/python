{
 "cells": [
  {
   "cell_type": "code",
   "execution_count": 8,
   "metadata": {},
   "outputs": [
    {
     "ename": "NameError",
     "evalue": "name 'output_file' is not defined",
     "output_type": "error",
     "traceback": [
      "\u001b[0;31m---------------------------------------------------------------------------\u001b[0m",
      "\u001b[0;31mNameError\u001b[0m                                 Traceback (most recent call last)",
      "\u001b[0;32m<ipython-input-8-c2460a00b726>\u001b[0m in \u001b[0;36m<module>\u001b[0;34m()\u001b[0m\n\u001b[1;32m     50\u001b[0m \u001b[0mMSS\u001b[0m\u001b[0;34m,\u001b[0m \u001b[0mn_rows\u001b[0m \u001b[0;34m=\u001b[0m \u001b[0msolveWordWrap\u001b[0m\u001b[0;34m(\u001b[0m\u001b[0mL\u001b[0m\u001b[0;34m,\u001b[0m \u001b[0mwrd\u001b[0m\u001b[0;34m,\u001b[0m \u001b[0mwrd_cnt\u001b[0m\u001b[0;34m)\u001b[0m\u001b[0;34m\u001b[0m\u001b[0m\n\u001b[1;32m     51\u001b[0m \u001b[0;34m\u001b[0m\u001b[0m\n\u001b[0;32m---> 52\u001b[0;31m \u001b[0;32mwith\u001b[0m \u001b[0mopen\u001b[0m\u001b[0;34m(\u001b[0m\u001b[0moutput_file\u001b[0m\u001b[0;34m,\u001b[0m \u001b[0;34m'w'\u001b[0m\u001b[0;34m)\u001b[0m \u001b[0;32mas\u001b[0m \u001b[0mf\u001b[0m\u001b[0;34m:\u001b[0m\u001b[0;34m\u001b[0m\u001b[0m\n\u001b[0m\u001b[1;32m     53\u001b[0m     \u001b[0mf\u001b[0m\u001b[0;34m.\u001b[0m\u001b[0mwrite\u001b[0m\u001b[0;34m(\u001b[0m\u001b[0mstr\u001b[0m\u001b[0;34m(\u001b[0m\u001b[0mMSS\u001b[0m\u001b[0;34m)\u001b[0m \u001b[0;34m+\u001b[0m \u001b[0;34m'\\n'\u001b[0m\u001b[0;34m)\u001b[0m\u001b[0;34m\u001b[0m\u001b[0m\n\u001b[1;32m     54\u001b[0m     \u001b[0mf\u001b[0m\u001b[0;34m.\u001b[0m\u001b[0mwrite\u001b[0m\u001b[0;34m(\u001b[0m\u001b[0mstr\u001b[0m\u001b[0;34m(\u001b[0m\u001b[0mn_rows\u001b[0m\u001b[0;34m)\u001b[0m\u001b[0;34m)\u001b[0m\u001b[0;34m\u001b[0m\u001b[0m\n",
      "\u001b[0;31mNameError\u001b[0m: name 'output_file' is not defined"
     ]
    }
   ],
   "source": [
    "with open('input.txt', 'r') as file:\n",
    "    L = int(file.readline())\n",
    "    text = file.readline()\n",
    "    wrd = text.split()\n",
    "    wrd_cnt = len(wrd)\n",
    "\n",
    "def solveWordWrap(L, wrd, wrd_cnt):\n",
    "\n",
    "    cost = [[0 for i in range(wrd_cnt)] \n",
    "            for j in range(wrd_cnt)]\n",
    "    for i in range(wrd_cnt):\n",
    "        cost[i][i] = L - len( wrd[i])\n",
    "        for j in range(i + 1, wrd_cnt):\n",
    "            cost[i][j] = cost[i][j - 1] - len(wrd[j]) - 1\n",
    "    \n",
    "    p = [0 for _ in range(wrd_cnt)]\n",
    "    dist = [0]\n",
    "    \n",
    "    for i in range(wrd_cnt): \n",
    "        dist.append(2 ** 64)\n",
    "    \n",
    "    for j in range(wrd_cnt):\n",
    "        i = j\n",
    "        i = j\n",
    "        while i >= 0:\n",
    "            if cost[i][j] < 0: INF = 2 ** 32\n",
    "            else: INF = dist[i] + cost[i][j] ** 2\n",
    "            if INF < dist[j + 1]:\n",
    "                dist[j + 1] = INF\n",
    "                p[j] = i\n",
    "            i -= 1\n",
    "        \n",
    "    rows = []\n",
    "    j = wrd_cnt\n",
    "    \n",
    "    while j > 0:\n",
    "        i = p[j - 1]\n",
    "        rows.append(' '.join(wrd[i:j]))\n",
    "        j = i\n",
    "    \n",
    "    MSS = 0\n",
    "    n_rows = len(rows)\n",
    "    \n",
    "    for row in rows:\n",
    "        n_spaces = L - len(row)\n",
    "        MSS += n_spaces ** 2\n",
    "        \n",
    "    return MSS, n_rows\n",
    "\n",
    "MSS, n_rows = solveWordWrap(L, wrd, wrd_cnt)\n",
    "    \n",
    "with open('output.txt', 'w') as f:\n",
    "    f.write(str(MSS) + '\\n')\n",
    "    f.write(str(n_rows))"
   ]
  },
  {
   "cell_type": "code",
   "execution_count": null,
   "metadata": {},
   "outputs": [],
   "source": []
  }
 ],
 "metadata": {
  "kernelspec": {
   "display_name": "Python 3",
   "language": "python",
   "name": "python3"
  },
  "language_info": {
   "codemirror_mode": {
    "name": "ipython",
    "version": 3
   },
   "file_extension": ".py",
   "mimetype": "text/x-python",
   "name": "python",
   "nbconvert_exporter": "python",
   "pygments_lexer": "ipython3",
   "version": "3.6.4"
  }
 },
 "nbformat": 4,
 "nbformat_minor": 2
}
