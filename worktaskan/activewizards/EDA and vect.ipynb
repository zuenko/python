{
 "cells": [
  {
   "cell_type": "markdown",
   "metadata": {
    "toc": true
   },
   "source": [
    "<h1>Content<span class=\"tocSkip\"></span></h1>\n",
    "<div class=\"toc\"><ul class=\"toc-item\"><li><span><a href=\"#Task\" data-toc-modified-id=\"Task-1\"><span class=\"toc-item-num\">1&nbsp;&nbsp;</span>Task</a></span></li><li><span><a href=\"#Load\" data-toc-modified-id=\"Load-2\"><span class=\"toc-item-num\">2&nbsp;&nbsp;</span>Load</a></span></li><li><span><a href=\"#EDA\" data-toc-modified-id=\"EDA-3\"><span class=\"toc-item-num\">3&nbsp;&nbsp;</span>EDA</a></span><ul class=\"toc-item\"><li><span><a href=\"#Fast-overview-over-all-data\" data-toc-modified-id=\"Fast-overview-over-all-data-3.1\"><span class=\"toc-item-num\">3.1&nbsp;&nbsp;</span>Fast overview over all data</a></span></li><li><span><a href=\"#Nans-overview\" data-toc-modified-id=\"Nans-overview-3.2\"><span class=\"toc-item-num\">3.2&nbsp;&nbsp;</span>Nans overview</a></span></li><li><span><a href=\"#Fast-statistics\" data-toc-modified-id=\"Fast-statistics-3.3\"><span class=\"toc-item-num\">3.3&nbsp;&nbsp;</span>Fast statistics</a></span></li><li><span><a href=\"#Time-enc\" data-toc-modified-id=\"Time-enc-3.4\"><span class=\"toc-item-num\">3.4&nbsp;&nbsp;</span>Time enc</a></span></li><li><span><a href=\"#Plot-number-of-unique-values\" data-toc-modified-id=\"Plot-number-of-unique-values-3.5\"><span class=\"toc-item-num\">3.5&nbsp;&nbsp;</span>Plot number of unique values</a></span></li><li><span><a href=\"#Plot-duplicates-count\" data-toc-modified-id=\"Plot-duplicates-count-3.6\"><span class=\"toc-item-num\">3.6&nbsp;&nbsp;</span>Plot duplicates count</a></span></li><li><span><a href=\"#Value-counts\" data-toc-modified-id=\"Value-counts-3.7\"><span class=\"toc-item-num\">3.7&nbsp;&nbsp;</span>Value counts</a></span></li><li><span><a href=\"#Select-columns:-[Categorical,-Numerical]\" data-toc-modified-id=\"Select-columns:-[Categorical,-Numerical]-3.8\"><span class=\"toc-item-num\">3.8&nbsp;&nbsp;</span>Select columns: [Categorical, Numerical]</a></span></li><li><span><a href=\"#Categorical\" data-toc-modified-id=\"Categorical-3.9\"><span class=\"toc-item-num\">3.9&nbsp;&nbsp;</span>Categorical</a></span></li><li><span><a href=\"#Time-features-extraction\" data-toc-modified-id=\"Time-features-extraction-3.10\"><span class=\"toc-item-num\">3.10&nbsp;&nbsp;</span>Time features extraction</a></span></li><li><span><a href=\"#Plotting\" data-toc-modified-id=\"Plotting-3.11\"><span class=\"toc-item-num\">3.11&nbsp;&nbsp;</span>Plotting</a></span></li></ul></li><li><span><a href=\"#Encoding-text\" data-toc-modified-id=\"Encoding-text-4\"><span class=\"toc-item-num\">4&nbsp;&nbsp;</span>Encoding text</a></span><ul class=\"toc-item\"><li><span><a href=\"#Extract-addition-feature-from-message_encoding\" data-toc-modified-id=\"Extract-addition-feature-from-message_encoding-4.1\"><span class=\"toc-item-num\">4.1&nbsp;&nbsp;</span>Extract addition feature from message_encoding</a></span></li><li><span><a href=\"#Fast-clean\" data-toc-modified-id=\"Fast-clean-4.2\"><span class=\"toc-item-num\">4.2&nbsp;&nbsp;</span>Fast clean</a></span></li><li><span><a href=\"#Labeling-categorical-features\" data-toc-modified-id=\"Labeling-categorical-features-4.3\"><span class=\"toc-item-num\">4.3&nbsp;&nbsp;</span>Labeling categorical features</a></span></li></ul></li><li><span><a href=\"#Train_test-split\" data-toc-modified-id=\"Train_test-split-5\"><span class=\"toc-item-num\">5&nbsp;&nbsp;</span>Train_test split</a></span><ul class=\"toc-item\"><li><span><a href=\"#Compare-and-look-deeper\" data-toc-modified-id=\"Compare-and-look-deeper-5.1\"><span class=\"toc-item-num\">5.1&nbsp;&nbsp;</span>Compare and look deeper</a></span></li></ul></li></ul></div>"
   ]
  },
  {
   "cell_type": "markdown",
   "metadata": {},
   "source": [
    "### Task"
   ]
  },
  {
   "cell_type": "markdown",
   "metadata": {},
   "source": [
    "1. Прочитать с помощью Pandas две таблицы\n",
    " - commits.csv\n",
    " - issues.csv \n",
    "2. Объединить таблицы по полю Key.\n",
    "3. Выбрать столбцы:\n",
    " - 'author_name' – имя автора коммита;\n",
    " - 'author_email' – почта автора коммита;\n",
    " - 'committer_name' – имя исполнителя;\n",
    " - 'committer_email' – почта исполнителя;\n",
    " - 'time' – время коммита;\n",
    " - 'time_offset' – отклонение во времени;\n",
    " - 'message_encoding' – текст коммита. \n",
    "как независимые переменные, и столбец\n",
    " - ‘severity’ – степень ошибки как зависимую переменную для предсказания.\n",
    "4. Провести статистический анализ данных (exploratory data analysis), используя произвольные тип визуализации, в частности, сколько коммитов в день делает пользователь и т.д.\n",
    "5. Заполнить пропущенные значения в столбцах.\n",
    "6. Превратить категорийные текстовые переменные в числовые.\n",
    "7. Превратить некатегорийные текстовые переменные в векторы любым оптимальным способом. В случае необходимости, Вы можете дополнять dataset дополнительными переменными.\n",
    "8. Разделить dataset на train и test части.\n",
    "9. Построить модель, которая будет предсказывать переменную severity для тестового dataset на основании данных в train dataset.\n",
    "10. Протестировать несколько моделей и выбрать из них лучшую. А именно:\n",
    "- использовать Sklearn библиотеку (модели: Random Forest, Decision trees, Naive Bayes, SVM, etc.)\n",
    "- использование нейронных сетей будет плюсом. Можна взять Keras.io и натренировать нейронную сеть (выбрать Fully Connected Layer или другую архитектуру).\n",
    "11. Оптимизировать модели с использованием cross validation, grid search, etc.\n",
    "12. Оценить эффективность моделей на test datataset с использованием нескольких метрик на Ваше усмотрение и указать наиболее эффективную модель.\n",
    "13. Визуализировать confusion matrix для сравнения результатов.\n",
    "14. Кратко описать полученные результаты и их сравнение на английском языке. Выразить свое мнение, почему некоторые модели работают лучше или хуже."
   ]
  },
  {
   "cell_type": "markdown",
   "metadata": {},
   "source": [
    "### Load"
   ]
  },
  {
   "cell_type": "code",
   "execution_count": 1,
   "metadata": {
    "ExecuteTime": {
     "end_time": "2018-06-07T09:56:40.177180Z",
     "start_time": "2018-06-07T09:56:39.910081Z"
    },
    "run_control": {
     "marked": true
    }
   },
   "outputs": [],
   "source": [
    "import pandas as pd, numpy as np\n",
    "import os\n",
    "\n",
    "import matplotlib.pyplot as plt"
   ]
  },
  {
   "cell_type": "code",
   "execution_count": 2,
   "metadata": {
    "ExecuteTime": {
     "end_time": "2018-06-07T09:56:40.285524Z",
     "start_time": "2018-06-07T09:56:40.178071Z"
    },
    "run_control": {
     "marked": false
    }
   },
   "outputs": [
    {
     "name": "stdout",
     "output_type": "stream",
     "text": [
      "commits.zip  issues.zip  test.csv  train.csv\n"
     ]
    }
   ],
   "source": [
    "!ls data/"
   ]
  },
  {
   "cell_type": "code",
   "execution_count": 3,
   "metadata": {
    "ExecuteTime": {
     "end_time": "2018-06-07T09:56:40.508879Z",
     "start_time": "2018-06-07T09:56:40.286666Z"
    },
    "run_control": {
     "marked": true
    }
   },
   "outputs": [],
   "source": [
    "commits = pd.read_csv('data/commits.zip')\n",
    "issues = pd.read_csv('data/issues.zip')"
   ]
  },
  {
   "cell_type": "code",
   "execution_count": 4,
   "metadata": {
    "ExecuteTime": {
     "end_time": "2018-06-07T09:56:40.532379Z",
     "start_time": "2018-06-07T09:56:40.509894Z"
    },
    "run_control": {
     "marked": true
    }
   },
   "outputs": [],
   "source": [
    "df = commits.merge(issues, on='key')"
   ]
  },
  {
   "cell_type": "code",
   "execution_count": 5,
   "metadata": {
    "ExecuteTime": {
     "end_time": "2018-06-07T09:56:40.549360Z",
     "start_time": "2018-06-07T09:56:40.533438Z"
    },
    "run_control": {
     "marked": true
    }
   },
   "outputs": [],
   "source": [
    "peak = df[['author_name','author_email','committer_name','committer_email', 'time', 'time_offset', 'message_encoding','severity']].copy()"
   ]
  },
  {
   "cell_type": "code",
   "execution_count": 6,
   "metadata": {
    "ExecuteTime": {
     "end_time": "2018-06-07T09:56:40.552904Z",
     "start_time": "2018-06-07T09:56:40.550689Z"
    },
    "run_control": {
     "marked": true
    }
   },
   "outputs": [
    {
     "name": "stdout",
     "output_type": "stream",
     "text": [
      "Issue shape (17966, 16)\n",
      "Commits shape (19226, 10)\n",
      "Merged shape (11475, 25)\n",
      "Peaked shape (11475, 8)\n"
     ]
    }
   ],
   "source": [
    "print ('Issue shape', issues.shape)\n",
    "print ('Commits shape', commits.shape)\n",
    "\n",
    "print ('Merged shape', df.shape)\n",
    "print ('Peaked shape', peak.shape)"
   ]
  },
  {
   "cell_type": "markdown",
   "metadata": {},
   "source": [
    "### EDA"
   ]
  },
  {
   "cell_type": "markdown",
   "metadata": {},
   "source": [
    "#### Fast overview over all data\n",
    "Observe nans"
   ]
  },
  {
   "cell_type": "code",
   "execution_count": 7,
   "metadata": {
    "ExecuteTime": {
     "end_time": "2018-06-07T09:56:40.582559Z",
     "start_time": "2018-06-07T09:56:40.553775Z"
    },
    "run_control": {
     "marked": true
    }
   },
   "outputs": [
    {
     "data": {
      "text/plain": [
       "key                 7750\n",
       "cid                    0\n",
       "author_name            0\n",
       "author_email           0\n",
       "committer_name         0\n",
       "committer_email        0\n",
       "time                   0\n",
       "time_offset            0\n",
       "tree_id                0\n",
       "message_encoding       0\n",
       "dtype: int64"
      ]
     },
     "execution_count": 7,
     "metadata": {},
     "output_type": "execute_result"
    }
   ],
   "source": [
    "commits.replace('None', np.nan, inplace=True)\n",
    "commits.isnull().sum()"
   ]
  },
  {
   "cell_type": "code",
   "execution_count": 8,
   "metadata": {
    "ExecuteTime": {
     "end_time": "2018-06-07T09:56:40.599064Z",
     "start_time": "2018-06-07T09:56:40.583501Z"
    },
    "run_control": {
     "marked": true
    }
   },
   "outputs": [
    {
     "data": {
      "text/html": [
       "<div>\n",
       "<style scoped>\n",
       "    .dataframe tbody tr th:only-of-type {\n",
       "        vertical-align: middle;\n",
       "    }\n",
       "\n",
       "    .dataframe tbody tr th {\n",
       "        vertical-align: top;\n",
       "    }\n",
       "\n",
       "    .dataframe thead th {\n",
       "        text-align: right;\n",
       "    }\n",
       "</style>\n",
       "<table border=\"1\" class=\"dataframe\">\n",
       "  <thead>\n",
       "    <tr style=\"text-align: right;\">\n",
       "      <th></th>\n",
       "      <th>key</th>\n",
       "      <th>cid</th>\n",
       "      <th>author_name</th>\n",
       "      <th>author_email</th>\n",
       "      <th>committer_name</th>\n",
       "      <th>committer_email</th>\n",
       "      <th>time</th>\n",
       "      <th>time_offset</th>\n",
       "      <th>tree_id</th>\n",
       "      <th>message_encoding</th>\n",
       "    </tr>\n",
       "  </thead>\n",
       "  <tbody>\n",
       "    <tr>\n",
       "      <th>8</th>\n",
       "      <td>NaN</td>\n",
       "      <td>15d392688456ad9f963417843c52a7b610f771d2</td>\n",
       "      <td>hyukjinkwon</td>\n",
       "      <td>gurwls223@gmail.com</td>\n",
       "      <td>Felix Cheung</td>\n",
       "      <td>felixcheung@apache.org</td>\n",
       "      <td>1478407653</td>\n",
       "      <td>-420</td>\n",
       "      <td>4a969525408e41c1bc971c9b79ab20ad741a3962</td>\n",
       "      <td>[MINOR][DOCUMENTATION] Fix some minor descript...</td>\n",
       "    </tr>\n",
       "    <tr>\n",
       "      <th>23</th>\n",
       "      <td>NaN</td>\n",
       "      <td>14f235d5643bca75e270652c15154d86e57a7a70</td>\n",
       "      <td>Reynold Xin</td>\n",
       "      <td>rxin@databricks.com</td>\n",
       "      <td>Reynold Xin</td>\n",
       "      <td>rxin@databricks.com</td>\n",
       "      <td>1478248026</td>\n",
       "      <td>-420</td>\n",
       "      <td>8b058a154a68bdd9c8d178730ba18aec68b10fd2</td>\n",
       "      <td>Closing some stale/invalid pull requests\\n\\nCl...</td>\n",
       "    </tr>\n",
       "    <tr>\n",
       "      <th>29</th>\n",
       "      <td>NaN</td>\n",
       "      <td>e89202523bc2f5573bd736278c6b96c6e6759909</td>\n",
       "      <td>wm624@hotmail.com</td>\n",
       "      <td>wm624@hotmail.com</td>\n",
       "      <td>Felix Cheung</td>\n",
       "      <td>felixcheung@apache.org</td>\n",
       "      <td>1478212038</td>\n",
       "      <td>-420</td>\n",
       "      <td>a3684731d25172d2f65001dc2018ca9d910fbee9</td>\n",
       "      <td>[SPARKR][TEST] remove unnecessary suppressWarn...</td>\n",
       "    </tr>\n",
       "    <tr>\n",
       "      <th>39</th>\n",
       "      <td>NaN</td>\n",
       "      <td>0ea5d5b24c1f7b29efeac0e72d271aba279523f7</td>\n",
       "      <td>Reynold Xin</td>\n",
       "      <td>rxin@databricks.com</td>\n",
       "      <td>Reynold Xin</td>\n",
       "      <td>rxin@databricks.com</td>\n",
       "      <td>1478166354</td>\n",
       "      <td>-420</td>\n",
       "      <td>4988c9ae3ce68ee6bfe8eb22627ce91fae48dcd4</td>\n",
       "      <td>[SQL] minor - internal doc improvement for Ins...</td>\n",
       "    </tr>\n",
       "    <tr>\n",
       "      <th>57</th>\n",
       "      <td>NaN</td>\n",
       "      <td>bcbe44440e6c871e217f06d2a4696fd41f1d2606</td>\n",
       "      <td>Maria Rydzy</td>\n",
       "      <td>majrydzy+gh@gmail.com</td>\n",
       "      <td>Sean Owen</td>\n",
       "      <td>sowen@cloudera.com</td>\n",
       "      <td>1478077756</td>\n",
       "      <td>0</td>\n",
       "      <td>9cc8b36446b564f704b2bd8f634420a2f7ed2098</td>\n",
       "      <td>[MINOR] Use &lt;= for clarity in Pi examples' Mon...</td>\n",
       "    </tr>\n",
       "  </tbody>\n",
       "</table>\n",
       "</div>"
      ],
      "text/plain": [
       "    key                                       cid        author_name  \\\n",
       "8   NaN  15d392688456ad9f963417843c52a7b610f771d2        hyukjinkwon   \n",
       "23  NaN  14f235d5643bca75e270652c15154d86e57a7a70        Reynold Xin   \n",
       "29  NaN  e89202523bc2f5573bd736278c6b96c6e6759909  wm624@hotmail.com   \n",
       "39  NaN  0ea5d5b24c1f7b29efeac0e72d271aba279523f7        Reynold Xin   \n",
       "57  NaN  bcbe44440e6c871e217f06d2a4696fd41f1d2606        Maria Rydzy   \n",
       "\n",
       "             author_email committer_name         committer_email        time  \\\n",
       "8     gurwls223@gmail.com   Felix Cheung  felixcheung@apache.org  1478407653   \n",
       "23    rxin@databricks.com    Reynold Xin     rxin@databricks.com  1478248026   \n",
       "29      wm624@hotmail.com   Felix Cheung  felixcheung@apache.org  1478212038   \n",
       "39    rxin@databricks.com    Reynold Xin     rxin@databricks.com  1478166354   \n",
       "57  majrydzy+gh@gmail.com      Sean Owen      sowen@cloudera.com  1478077756   \n",
       "\n",
       "    time_offset                                   tree_id  \\\n",
       "8          -420  4a969525408e41c1bc971c9b79ab20ad741a3962   \n",
       "23         -420  8b058a154a68bdd9c8d178730ba18aec68b10fd2   \n",
       "29         -420  a3684731d25172d2f65001dc2018ca9d910fbee9   \n",
       "39         -420  4988c9ae3ce68ee6bfe8eb22627ce91fae48dcd4   \n",
       "57            0  9cc8b36446b564f704b2bd8f634420a2f7ed2098   \n",
       "\n",
       "                                     message_encoding  \n",
       "8   [MINOR][DOCUMENTATION] Fix some minor descript...  \n",
       "23  Closing some stale/invalid pull requests\\n\\nCl...  \n",
       "29  [SPARKR][TEST] remove unnecessary suppressWarn...  \n",
       "39  [SQL] minor - internal doc improvement for Ins...  \n",
       "57  [MINOR] Use <= for clarity in Pi examples' Mon...  "
      ]
     },
     "execution_count": 8,
     "metadata": {},
     "output_type": "execute_result"
    }
   ],
   "source": [
    "commits[commits.isnull()['key']].head()"
   ]
  },
  {
   "cell_type": "code",
   "execution_count": 9,
   "metadata": {
    "ExecuteTime": {
     "end_time": "2018-06-07T09:56:40.632210Z",
     "start_time": "2018-06-07T09:56:40.599981Z"
    },
    "run_control": {
     "marked": true
    }
   },
   "outputs": [
    {
     "data": {
      "text/plain": [
       "key                    0\n",
       "jira_id                0\n",
       "status_category        0\n",
       "creator             1060\n",
       "priority             282\n",
       "status                 0\n",
       "assignee            7042\n",
       "issuetype              0\n",
       "reporter               5\n",
       "resolution         17966\n",
       "project                0\n",
       "updated                0\n",
       "created                0\n",
       "resolved            2546\n",
       "components          1332\n",
       "severity               0\n",
       "dtype: int64"
      ]
     },
     "execution_count": 9,
     "metadata": {},
     "output_type": "execute_result"
    }
   ],
   "source": [
    "issues.replace('None', np.nan, inplace=True)\n",
    "issues.isnull().sum()"
   ]
  },
  {
   "cell_type": "code",
   "execution_count": 10,
   "metadata": {
    "ExecuteTime": {
     "end_time": "2018-06-07T09:56:40.653073Z",
     "start_time": "2018-06-07T09:56:40.633448Z"
    },
    "run_control": {
     "marked": true
    }
   },
   "outputs": [
    {
     "data": {
      "text/html": [
       "<div>\n",
       "<style scoped>\n",
       "    .dataframe tbody tr th:only-of-type {\n",
       "        vertical-align: middle;\n",
       "    }\n",
       "\n",
       "    .dataframe tbody tr th {\n",
       "        vertical-align: top;\n",
       "    }\n",
       "\n",
       "    .dataframe thead th {\n",
       "        text-align: right;\n",
       "    }\n",
       "</style>\n",
       "<table border=\"1\" class=\"dataframe\">\n",
       "  <thead>\n",
       "    <tr style=\"text-align: right;\">\n",
       "      <th></th>\n",
       "      <th>key</th>\n",
       "      <th>jira_id</th>\n",
       "      <th>status_category</th>\n",
       "      <th>creator</th>\n",
       "      <th>priority</th>\n",
       "      <th>status</th>\n",
       "      <th>assignee</th>\n",
       "      <th>issuetype</th>\n",
       "      <th>reporter</th>\n",
       "      <th>resolution</th>\n",
       "      <th>project</th>\n",
       "      <th>updated</th>\n",
       "      <th>created</th>\n",
       "      <th>resolved</th>\n",
       "      <th>components</th>\n",
       "      <th>severity</th>\n",
       "    </tr>\n",
       "  </thead>\n",
       "  <tbody>\n",
       "    <tr>\n",
       "      <th>2700</th>\n",
       "      <td>SPARK-1056</td>\n",
       "      <td>12704624</td>\n",
       "      <td>Complete</td>\n",
       "      <td>NaN</td>\n",
       "      <td>Trivial</td>\n",
       "      <td>Resolved</td>\n",
       "      <td>sandyr</td>\n",
       "      <td>Bug</td>\n",
       "      <td>sandy</td>\n",
       "      <td>NaN</td>\n",
       "      <td>Spark</td>\n",
       "      <td>2014-04-04T20:51:01.000+0000</td>\n",
       "      <td>2014-02-06T15:02:39.000+0000</td>\n",
       "      <td>2014-02-18T13:42:09.000+0000</td>\n",
       "      <td>YARN</td>\n",
       "      <td>0</td>\n",
       "    </tr>\n",
       "    <tr>\n",
       "      <th>2701</th>\n",
       "      <td>SPARK-1055</td>\n",
       "      <td>12704547</td>\n",
       "      <td>Complete</td>\n",
       "      <td>NaN</td>\n",
       "      <td>Major</td>\n",
       "      <td>Resolved</td>\n",
       "      <td>CodingCat</td>\n",
       "      <td>Bug</td>\n",
       "      <td>maasg</td>\n",
       "      <td>NaN</td>\n",
       "      <td>Spark</td>\n",
       "      <td>2014-02-22T16:59:56.000+0000</td>\n",
       "      <td>2014-02-05T03:12:36.000+0000</td>\n",
       "      <td>2014-02-22T16:35:14.000+0000</td>\n",
       "      <td>Examples</td>\n",
       "      <td>3</td>\n",
       "    </tr>\n",
       "    <tr>\n",
       "      <th>2702</th>\n",
       "      <td>SPARK-1054</td>\n",
       "      <td>12704650</td>\n",
       "      <td>Complete</td>\n",
       "      <td>NaN</td>\n",
       "      <td>Major</td>\n",
       "      <td>Resolved</td>\n",
       "      <td>NaN</td>\n",
       "      <td>New Feature</td>\n",
       "      <td>rohitbrai</td>\n",
       "      <td>NaN</td>\n",
       "      <td>Spark</td>\n",
       "      <td>2015-03-01T11:53:23.000+0000</td>\n",
       "      <td>2014-02-05T00:31:02.000+0000</td>\n",
       "      <td>2015-03-01T11:53:23.000+0000</td>\n",
       "      <td>Spark Core</td>\n",
       "      <td>3</td>\n",
       "    </tr>\n",
       "    <tr>\n",
       "      <th>2703</th>\n",
       "      <td>SPARK-1053</td>\n",
       "      <td>12704543</td>\n",
       "      <td>Complete</td>\n",
       "      <td>NaN</td>\n",
       "      <td>Major</td>\n",
       "      <td>Resolved</td>\n",
       "      <td>sandyr</td>\n",
       "      <td>Sub-task</td>\n",
       "      <td>sandy</td>\n",
       "      <td>NaN</td>\n",
       "      <td>Spark</td>\n",
       "      <td>2014-04-04T20:49:15.000+0000</td>\n",
       "      <td>2014-02-04T23:22:31.000+0000</td>\n",
       "      <td>2014-02-27T01:19:19.000+0000</td>\n",
       "      <td>YARN</td>\n",
       "      <td>3</td>\n",
       "    </tr>\n",
       "    <tr>\n",
       "      <th>2704</th>\n",
       "      <td>SPARK-1052</td>\n",
       "      <td>12704604</td>\n",
       "      <td>Complete</td>\n",
       "      <td>NaN</td>\n",
       "      <td>Major</td>\n",
       "      <td>Resolved</td>\n",
       "      <td>bijaybisht</td>\n",
       "      <td>Bug</td>\n",
       "      <td>amiorin</td>\n",
       "      <td>NaN</td>\n",
       "      <td>Spark</td>\n",
       "      <td>2014-02-16T16:55:31.000+0000</td>\n",
       "      <td>2014-02-04T13:48:02.000+0000</td>\n",
       "      <td>2014-02-16T16:55:31.000+0000</td>\n",
       "      <td>NaN</td>\n",
       "      <td>3</td>\n",
       "    </tr>\n",
       "  </tbody>\n",
       "</table>\n",
       "</div>"
      ],
      "text/plain": [
       "             key   jira_id status_category creator priority    status  \\\n",
       "2700  SPARK-1056  12704624        Complete     NaN  Trivial  Resolved   \n",
       "2701  SPARK-1055  12704547        Complete     NaN    Major  Resolved   \n",
       "2702  SPARK-1054  12704650        Complete     NaN    Major  Resolved   \n",
       "2703  SPARK-1053  12704543        Complete     NaN    Major  Resolved   \n",
       "2704  SPARK-1052  12704604        Complete     NaN    Major  Resolved   \n",
       "\n",
       "        assignee    issuetype   reporter  resolution project  \\\n",
       "2700      sandyr          Bug      sandy         NaN   Spark   \n",
       "2701   CodingCat          Bug      maasg         NaN   Spark   \n",
       "2702         NaN  New Feature  rohitbrai         NaN   Spark   \n",
       "2703      sandyr     Sub-task      sandy         NaN   Spark   \n",
       "2704  bijaybisht          Bug    amiorin         NaN   Spark   \n",
       "\n",
       "                           updated                       created  \\\n",
       "2700  2014-04-04T20:51:01.000+0000  2014-02-06T15:02:39.000+0000   \n",
       "2701  2014-02-22T16:59:56.000+0000  2014-02-05T03:12:36.000+0000   \n",
       "2702  2015-03-01T11:53:23.000+0000  2014-02-05T00:31:02.000+0000   \n",
       "2703  2014-04-04T20:49:15.000+0000  2014-02-04T23:22:31.000+0000   \n",
       "2704  2014-02-16T16:55:31.000+0000  2014-02-04T13:48:02.000+0000   \n",
       "\n",
       "                          resolved  components  severity  \n",
       "2700  2014-02-18T13:42:09.000+0000        YARN         0  \n",
       "2701  2014-02-22T16:35:14.000+0000    Examples         3  \n",
       "2702  2015-03-01T11:53:23.000+0000  Spark Core         3  \n",
       "2703  2014-02-27T01:19:19.000+0000        YARN         3  \n",
       "2704  2014-02-16T16:55:31.000+0000         NaN         3  "
      ]
     },
     "execution_count": 10,
     "metadata": {},
     "output_type": "execute_result"
    }
   ],
   "source": [
    "issues[issues.isnull()['creator']].head()"
   ]
  },
  {
   "cell_type": "code",
   "execution_count": 11,
   "metadata": {
    "ExecuteTime": {
     "end_time": "2018-06-07T09:56:40.672019Z",
     "start_time": "2018-06-07T09:56:40.654428Z"
    },
    "run_control": {
     "marked": true
    }
   },
   "outputs": [
    {
     "data": {
      "text/html": [
       "<div>\n",
       "<style scoped>\n",
       "    .dataframe tbody tr th:only-of-type {\n",
       "        vertical-align: middle;\n",
       "    }\n",
       "\n",
       "    .dataframe tbody tr th {\n",
       "        vertical-align: top;\n",
       "    }\n",
       "\n",
       "    .dataframe thead th {\n",
       "        text-align: right;\n",
       "    }\n",
       "</style>\n",
       "<table border=\"1\" class=\"dataframe\">\n",
       "  <thead>\n",
       "    <tr style=\"text-align: right;\">\n",
       "      <th></th>\n",
       "      <th>key</th>\n",
       "      <th>jira_id</th>\n",
       "      <th>status_category</th>\n",
       "      <th>creator</th>\n",
       "      <th>priority</th>\n",
       "      <th>status</th>\n",
       "      <th>assignee</th>\n",
       "      <th>issuetype</th>\n",
       "      <th>reporter</th>\n",
       "      <th>resolution</th>\n",
       "      <th>project</th>\n",
       "      <th>updated</th>\n",
       "      <th>created</th>\n",
       "      <th>resolved</th>\n",
       "      <th>components</th>\n",
       "      <th>severity</th>\n",
       "    </tr>\n",
       "  </thead>\n",
       "  <tbody>\n",
       "    <tr>\n",
       "      <th>6700</th>\n",
       "      <td>SPARK-555</td>\n",
       "      <td>12705306</td>\n",
       "      <td>Complete</td>\n",
       "      <td>NaN</td>\n",
       "      <td>NaN</td>\n",
       "      <td>Resolved</td>\n",
       "      <td>joshrosen</td>\n",
       "      <td>New Feature</td>\n",
       "      <td>matei</td>\n",
       "      <td>NaN</td>\n",
       "      <td>Spark</td>\n",
       "      <td>2013-12-07T12:56:44.000+0000</td>\n",
       "      <td>0011-11-23T18:06:00.000+0000</td>\n",
       "      <td>2013-12-07T12:56:44.000+0000</td>\n",
       "      <td>NaN</td>\n",
       "      <td>0</td>\n",
       "    </tr>\n",
       "    <tr>\n",
       "      <th>6701</th>\n",
       "      <td>SPARK-554</td>\n",
       "      <td>12705301</td>\n",
       "      <td>Complete</td>\n",
       "      <td>NaN</td>\n",
       "      <td>NaN</td>\n",
       "      <td>Resolved</td>\n",
       "      <td>sandyr</td>\n",
       "      <td>New Feature</td>\n",
       "      <td>matei</td>\n",
       "      <td>NaN</td>\n",
       "      <td>Spark</td>\n",
       "      <td>2014-06-12T15:15:34.000+0000</td>\n",
       "      <td>0011-11-30T11:40:00.000+0000</td>\n",
       "      <td>2014-06-12T15:15:34.000+0000</td>\n",
       "      <td>NaN</td>\n",
       "      <td>0</td>\n",
       "    </tr>\n",
       "    <tr>\n",
       "      <th>6702</th>\n",
       "      <td>SPARK-553</td>\n",
       "      <td>12705329</td>\n",
       "      <td>Complete</td>\n",
       "      <td>NaN</td>\n",
       "      <td>NaN</td>\n",
       "      <td>Resolved</td>\n",
       "      <td>NaN</td>\n",
       "      <td>New Feature</td>\n",
       "      <td>matei</td>\n",
       "      <td>NaN</td>\n",
       "      <td>Spark</td>\n",
       "      <td>2013-05-05T11:40:42.000+0000</td>\n",
       "      <td>0011-12-02T21:34:00.000+0000</td>\n",
       "      <td>2013-05-05T11:40:30.000+0000</td>\n",
       "      <td>Documentation</td>\n",
       "      <td>0</td>\n",
       "    </tr>\n",
       "    <tr>\n",
       "      <th>6703</th>\n",
       "      <td>SPARK-552</td>\n",
       "      <td>12705288</td>\n",
       "      <td>Complete</td>\n",
       "      <td>NaN</td>\n",
       "      <td>NaN</td>\n",
       "      <td>Closed</td>\n",
       "      <td>NaN</td>\n",
       "      <td>New Feature</td>\n",
       "      <td>shawny</td>\n",
       "      <td>NaN</td>\n",
       "      <td>Spark</td>\n",
       "      <td>2012-10-20T16:57:18.000+0000</td>\n",
       "      <td>0011-12-19T20:26:00.000+0000</td>\n",
       "      <td>2012-10-20T16:57:18.000+0000</td>\n",
       "      <td>NaN</td>\n",
       "      <td>0</td>\n",
       "    </tr>\n",
       "    <tr>\n",
       "      <th>6704</th>\n",
       "      <td>SPARK-551</td>\n",
       "      <td>12705298</td>\n",
       "      <td>Complete</td>\n",
       "      <td>NaN</td>\n",
       "      <td>NaN</td>\n",
       "      <td>Resolved</td>\n",
       "      <td>NaN</td>\n",
       "      <td>Bug</td>\n",
       "      <td>dukeecnu</td>\n",
       "      <td>NaN</td>\n",
       "      <td>Spark</td>\n",
       "      <td>2013-12-07T14:12:13.000+0000</td>\n",
       "      <td>0011-12-26T00:37:00.000+0000</td>\n",
       "      <td>2013-12-07T14:12:13.000+0000</td>\n",
       "      <td>NaN</td>\n",
       "      <td>0</td>\n",
       "    </tr>\n",
       "  </tbody>\n",
       "</table>\n",
       "</div>"
      ],
      "text/plain": [
       "            key   jira_id status_category creator priority    status  \\\n",
       "6700  SPARK-555  12705306        Complete     NaN      NaN  Resolved   \n",
       "6701  SPARK-554  12705301        Complete     NaN      NaN  Resolved   \n",
       "6702  SPARK-553  12705329        Complete     NaN      NaN  Resolved   \n",
       "6703  SPARK-552  12705288        Complete     NaN      NaN    Closed   \n",
       "6704  SPARK-551  12705298        Complete     NaN      NaN  Resolved   \n",
       "\n",
       "       assignee    issuetype  reporter  resolution project  \\\n",
       "6700  joshrosen  New Feature     matei         NaN   Spark   \n",
       "6701     sandyr  New Feature     matei         NaN   Spark   \n",
       "6702        NaN  New Feature     matei         NaN   Spark   \n",
       "6703        NaN  New Feature    shawny         NaN   Spark   \n",
       "6704        NaN          Bug  dukeecnu         NaN   Spark   \n",
       "\n",
       "                           updated                       created  \\\n",
       "6700  2013-12-07T12:56:44.000+0000  0011-11-23T18:06:00.000+0000   \n",
       "6701  2014-06-12T15:15:34.000+0000  0011-11-30T11:40:00.000+0000   \n",
       "6702  2013-05-05T11:40:42.000+0000  0011-12-02T21:34:00.000+0000   \n",
       "6703  2012-10-20T16:57:18.000+0000  0011-12-19T20:26:00.000+0000   \n",
       "6704  2013-12-07T14:12:13.000+0000  0011-12-26T00:37:00.000+0000   \n",
       "\n",
       "                          resolved     components  severity  \n",
       "6700  2013-12-07T12:56:44.000+0000            NaN         0  \n",
       "6701  2014-06-12T15:15:34.000+0000            NaN         0  \n",
       "6702  2013-05-05T11:40:30.000+0000  Documentation         0  \n",
       "6703  2012-10-20T16:57:18.000+0000            NaN         0  \n",
       "6704  2013-12-07T14:12:13.000+0000            NaN         0  "
      ]
     },
     "execution_count": 11,
     "metadata": {},
     "output_type": "execute_result"
    }
   ],
   "source": [
    "issues[issues.isnull()['priority']].head()"
   ]
  },
  {
   "cell_type": "code",
   "execution_count": 12,
   "metadata": {
    "ExecuteTime": {
     "end_time": "2018-06-07T09:56:40.690727Z",
     "start_time": "2018-06-07T09:56:40.673397Z"
    },
    "run_control": {
     "marked": true
    }
   },
   "outputs": [
    {
     "data": {
      "text/html": [
       "<div>\n",
       "<style scoped>\n",
       "    .dataframe tbody tr th:only-of-type {\n",
       "        vertical-align: middle;\n",
       "    }\n",
       "\n",
       "    .dataframe tbody tr th {\n",
       "        vertical-align: top;\n",
       "    }\n",
       "\n",
       "    .dataframe thead th {\n",
       "        text-align: right;\n",
       "    }\n",
       "</style>\n",
       "<table border=\"1\" class=\"dataframe\">\n",
       "  <thead>\n",
       "    <tr style=\"text-align: right;\">\n",
       "      <th></th>\n",
       "      <th>key</th>\n",
       "      <th>jira_id</th>\n",
       "      <th>status_category</th>\n",
       "      <th>creator</th>\n",
       "      <th>priority</th>\n",
       "      <th>status</th>\n",
       "      <th>assignee</th>\n",
       "      <th>issuetype</th>\n",
       "      <th>reporter</th>\n",
       "      <th>resolution</th>\n",
       "      <th>project</th>\n",
       "      <th>updated</th>\n",
       "      <th>created</th>\n",
       "      <th>resolved</th>\n",
       "      <th>components</th>\n",
       "      <th>severity</th>\n",
       "    </tr>\n",
       "  </thead>\n",
       "  <tbody>\n",
       "    <tr>\n",
       "      <th>7231</th>\n",
       "      <td>SPARK-624</td>\n",
       "      <td>12705348</td>\n",
       "      <td>Complete</td>\n",
       "      <td>NaN</td>\n",
       "      <td>Minor</td>\n",
       "      <td>Resolved</td>\n",
       "      <td>NaN</td>\n",
       "      <td>Improvement</td>\n",
       "      <td>NaN</td>\n",
       "      <td>NaN</td>\n",
       "      <td>Spark</td>\n",
       "      <td>2012-11-21T11:38:19.000+0000</td>\n",
       "      <td>2012-11-15T13:40:45.000+0000</td>\n",
       "      <td>2012-11-21T11:38:19.000+0000</td>\n",
       "      <td>NaN</td>\n",
       "      <td>1</td>\n",
       "    </tr>\n",
       "    <tr>\n",
       "      <th>7251</th>\n",
       "      <td>SPARK-604</td>\n",
       "      <td>12705292</td>\n",
       "      <td>Complete</td>\n",
       "      <td>NaN</td>\n",
       "      <td>Major</td>\n",
       "      <td>Resolved</td>\n",
       "      <td>NaN</td>\n",
       "      <td>Bug</td>\n",
       "      <td>NaN</td>\n",
       "      <td>NaN</td>\n",
       "      <td>Spark</td>\n",
       "      <td>2015-05-15T13:50:33.000+0000</td>\n",
       "      <td>2012-11-01T16:55:24.000+0000</td>\n",
       "      <td>2015-05-15T13:50:33.000+0000</td>\n",
       "      <td>Mesos</td>\n",
       "      <td>3</td>\n",
       "    </tr>\n",
       "    <tr>\n",
       "      <th>7254</th>\n",
       "      <td>SPARK-601</td>\n",
       "      <td>12704935</td>\n",
       "      <td>Complete</td>\n",
       "      <td>NaN</td>\n",
       "      <td>Minor</td>\n",
       "      <td>Resolved</td>\n",
       "      <td>markhamstra</td>\n",
       "      <td>Bug</td>\n",
       "      <td>NaN</td>\n",
       "      <td>NaN</td>\n",
       "      <td>Spark</td>\n",
       "      <td>2013-08-06T23:20:00.000+0000</td>\n",
       "      <td>2012-10-31T16:02:31.000+0000</td>\n",
       "      <td>2013-08-06T23:20:00.000+0000</td>\n",
       "      <td>Spark Core</td>\n",
       "      <td>1</td>\n",
       "    </tr>\n",
       "    <tr>\n",
       "      <th>7271</th>\n",
       "      <td>SPARK-584</td>\n",
       "      <td>12704937</td>\n",
       "      <td>Complete</td>\n",
       "      <td>NaN</td>\n",
       "      <td>Minor</td>\n",
       "      <td>Resolved</td>\n",
       "      <td>NaN</td>\n",
       "      <td>Improvement</td>\n",
       "      <td>NaN</td>\n",
       "      <td>NaN</td>\n",
       "      <td>Spark</td>\n",
       "      <td>2016-01-05T21:13:57.000+0000</td>\n",
       "      <td>2012-10-22T14:39:08.000+0000</td>\n",
       "      <td>2016-01-05T21:13:56.000+0000</td>\n",
       "      <td>Spark Core</td>\n",
       "      <td>1</td>\n",
       "    </tr>\n",
       "    <tr>\n",
       "      <th>7276</th>\n",
       "      <td>SPARK-579</td>\n",
       "      <td>12704844</td>\n",
       "      <td>Complete</td>\n",
       "      <td>NaN</td>\n",
       "      <td>Major</td>\n",
       "      <td>Resolved</td>\n",
       "      <td>patrick</td>\n",
       "      <td>Bug</td>\n",
       "      <td>NaN</td>\n",
       "      <td>NaN</td>\n",
       "      <td>Spark</td>\n",
       "      <td>2012-10-19T21:28:41.000+0000</td>\n",
       "      <td>2012-10-19T21:28:15.000+0000</td>\n",
       "      <td>2012-10-19T21:28:41.000+0000</td>\n",
       "      <td>NaN</td>\n",
       "      <td>3</td>\n",
       "    </tr>\n",
       "  </tbody>\n",
       "</table>\n",
       "</div>"
      ],
      "text/plain": [
       "            key   jira_id status_category creator priority    status  \\\n",
       "7231  SPARK-624  12705348        Complete     NaN    Minor  Resolved   \n",
       "7251  SPARK-604  12705292        Complete     NaN    Major  Resolved   \n",
       "7254  SPARK-601  12704935        Complete     NaN    Minor  Resolved   \n",
       "7271  SPARK-584  12704937        Complete     NaN    Minor  Resolved   \n",
       "7276  SPARK-579  12704844        Complete     NaN    Major  Resolved   \n",
       "\n",
       "         assignee    issuetype reporter  resolution project  \\\n",
       "7231          NaN  Improvement      NaN         NaN   Spark   \n",
       "7251          NaN          Bug      NaN         NaN   Spark   \n",
       "7254  markhamstra          Bug      NaN         NaN   Spark   \n",
       "7271          NaN  Improvement      NaN         NaN   Spark   \n",
       "7276      patrick          Bug      NaN         NaN   Spark   \n",
       "\n",
       "                           updated                       created  \\\n",
       "7231  2012-11-21T11:38:19.000+0000  2012-11-15T13:40:45.000+0000   \n",
       "7251  2015-05-15T13:50:33.000+0000  2012-11-01T16:55:24.000+0000   \n",
       "7254  2013-08-06T23:20:00.000+0000  2012-10-31T16:02:31.000+0000   \n",
       "7271  2016-01-05T21:13:57.000+0000  2012-10-22T14:39:08.000+0000   \n",
       "7276  2012-10-19T21:28:41.000+0000  2012-10-19T21:28:15.000+0000   \n",
       "\n",
       "                          resolved  components  severity  \n",
       "7231  2012-11-21T11:38:19.000+0000         NaN         1  \n",
       "7251  2015-05-15T13:50:33.000+0000       Mesos         3  \n",
       "7254  2013-08-06T23:20:00.000+0000  Spark Core         1  \n",
       "7271  2016-01-05T21:13:56.000+0000  Spark Core         1  \n",
       "7276  2012-10-19T21:28:41.000+0000         NaN         3  "
      ]
     },
     "execution_count": 12,
     "metadata": {},
     "output_type": "execute_result"
    }
   ],
   "source": [
    "issues[issues.isnull()['reporter']].head()"
   ]
  },
  {
   "cell_type": "code",
   "execution_count": 13,
   "metadata": {
    "ExecuteTime": {
     "end_time": "2018-06-07T09:56:40.710563Z",
     "start_time": "2018-06-07T09:56:40.691994Z"
    },
    "run_control": {
     "marked": true
    }
   },
   "outputs": [
    {
     "data": {
      "text/html": [
       "<div>\n",
       "<style scoped>\n",
       "    .dataframe tbody tr th:only-of-type {\n",
       "        vertical-align: middle;\n",
       "    }\n",
       "\n",
       "    .dataframe tbody tr th {\n",
       "        vertical-align: top;\n",
       "    }\n",
       "\n",
       "    .dataframe thead th {\n",
       "        text-align: right;\n",
       "    }\n",
       "</style>\n",
       "<table border=\"1\" class=\"dataframe\">\n",
       "  <thead>\n",
       "    <tr style=\"text-align: right;\">\n",
       "      <th></th>\n",
       "      <th>key</th>\n",
       "      <th>jira_id</th>\n",
       "      <th>status_category</th>\n",
       "      <th>creator</th>\n",
       "      <th>priority</th>\n",
       "      <th>status</th>\n",
       "      <th>assignee</th>\n",
       "      <th>issuetype</th>\n",
       "      <th>reporter</th>\n",
       "      <th>resolution</th>\n",
       "      <th>project</th>\n",
       "      <th>updated</th>\n",
       "      <th>created</th>\n",
       "      <th>resolved</th>\n",
       "      <th>components</th>\n",
       "      <th>severity</th>\n",
       "    </tr>\n",
       "  </thead>\n",
       "  <tbody>\n",
       "    <tr>\n",
       "      <th>0</th>\n",
       "      <td>SPARK-4957</td>\n",
       "      <td>12763687</td>\n",
       "      <td>Complete</td>\n",
       "      <td>nathan_gs</td>\n",
       "      <td>Major</td>\n",
       "      <td>Closed</td>\n",
       "      <td>NaN</td>\n",
       "      <td>Improvement</td>\n",
       "      <td>nathan_gs</td>\n",
       "      <td>NaN</td>\n",
       "      <td>Spark</td>\n",
       "      <td>2016-09-06T01:43:57.000+0000</td>\n",
       "      <td>2014-12-24T13:38:57.000+0000</td>\n",
       "      <td>2016-09-06T01:43:56.000+0000</td>\n",
       "      <td>Scheduler</td>\n",
       "      <td>3</td>\n",
       "    </tr>\n",
       "    <tr>\n",
       "      <th>1</th>\n",
       "      <td>SPARK-4956</td>\n",
       "      <td>12763679</td>\n",
       "      <td>Complete</td>\n",
       "      <td>liaoyuxi</td>\n",
       "      <td>Minor</td>\n",
       "      <td>Closed</td>\n",
       "      <td>NaN</td>\n",
       "      <td>Bug</td>\n",
       "      <td>liaoyuxi</td>\n",
       "      <td>NaN</td>\n",
       "      <td>Spark</td>\n",
       "      <td>2015-03-04T05:16:07.000+0000</td>\n",
       "      <td>2014-12-24T12:27:12.000+0000</td>\n",
       "      <td>2015-02-23T22:34:41.000+0000</td>\n",
       "      <td>MLlib</td>\n",
       "      <td>1</td>\n",
       "    </tr>\n",
       "    <tr>\n",
       "      <th>2</th>\n",
       "      <td>SPARK-4955</td>\n",
       "      <td>12763661</td>\n",
       "      <td>Complete</td>\n",
       "      <td>chengxiang li</td>\n",
       "      <td>Blocker</td>\n",
       "      <td>Closed</td>\n",
       "      <td>lianhuiwang</td>\n",
       "      <td>Bug</td>\n",
       "      <td>chengxiang li</td>\n",
       "      <td>NaN</td>\n",
       "      <td>Spark</td>\n",
       "      <td>2015-01-28T20:54:23.000+0000</td>\n",
       "      <td>2014-12-24T09:16:23.000+0000</td>\n",
       "      <td>2015-01-28T20:54:23.000+0000</td>\n",
       "      <td>YARN</td>\n",
       "      <td>10</td>\n",
       "    </tr>\n",
       "    <tr>\n",
       "      <th>3</th>\n",
       "      <td>SPARK-4954</td>\n",
       "      <td>12763657</td>\n",
       "      <td>Complete</td>\n",
       "      <td>liyezhang556520</td>\n",
       "      <td>Minor</td>\n",
       "      <td>Resolved</td>\n",
       "      <td>liyezhang556520</td>\n",
       "      <td>Improvement</td>\n",
       "      <td>liyezhang556520</td>\n",
       "      <td>NaN</td>\n",
       "      <td>Spark</td>\n",
       "      <td>2014-12-27T07:25:26.000+0000</td>\n",
       "      <td>2014-12-24T09:01:34.000+0000</td>\n",
       "      <td>2014-12-27T07:25:26.000+0000</td>\n",
       "      <td>Spark Core</td>\n",
       "      <td>1</td>\n",
       "    </tr>\n",
       "    <tr>\n",
       "      <th>4</th>\n",
       "      <td>SPARK-4953</td>\n",
       "      <td>12763643</td>\n",
       "      <td>Complete</td>\n",
       "      <td>sarutak</td>\n",
       "      <td>Major</td>\n",
       "      <td>Resolved</td>\n",
       "      <td>sarutak</td>\n",
       "      <td>Bug</td>\n",
       "      <td>sarutak</td>\n",
       "      <td>NaN</td>\n",
       "      <td>Spark</td>\n",
       "      <td>2014-12-25T15:06:12.000+0000</td>\n",
       "      <td>2014-12-24T07:07:56.000+0000</td>\n",
       "      <td>2014-12-25T15:06:12.000+0000</td>\n",
       "      <td>Documentation</td>\n",
       "      <td>3</td>\n",
       "    </tr>\n",
       "  </tbody>\n",
       "</table>\n",
       "</div>"
      ],
      "text/plain": [
       "          key   jira_id status_category          creator priority    status  \\\n",
       "0  SPARK-4957  12763687        Complete        nathan_gs    Major    Closed   \n",
       "1  SPARK-4956  12763679        Complete         liaoyuxi    Minor    Closed   \n",
       "2  SPARK-4955  12763661        Complete    chengxiang li  Blocker    Closed   \n",
       "3  SPARK-4954  12763657        Complete  liyezhang556520    Minor  Resolved   \n",
       "4  SPARK-4953  12763643        Complete          sarutak    Major  Resolved   \n",
       "\n",
       "          assignee    issuetype         reporter  resolution project  \\\n",
       "0              NaN  Improvement        nathan_gs         NaN   Spark   \n",
       "1              NaN          Bug         liaoyuxi         NaN   Spark   \n",
       "2      lianhuiwang          Bug    chengxiang li         NaN   Spark   \n",
       "3  liyezhang556520  Improvement  liyezhang556520         NaN   Spark   \n",
       "4          sarutak          Bug          sarutak         NaN   Spark   \n",
       "\n",
       "                        updated                       created  \\\n",
       "0  2016-09-06T01:43:57.000+0000  2014-12-24T13:38:57.000+0000   \n",
       "1  2015-03-04T05:16:07.000+0000  2014-12-24T12:27:12.000+0000   \n",
       "2  2015-01-28T20:54:23.000+0000  2014-12-24T09:16:23.000+0000   \n",
       "3  2014-12-27T07:25:26.000+0000  2014-12-24T09:01:34.000+0000   \n",
       "4  2014-12-25T15:06:12.000+0000  2014-12-24T07:07:56.000+0000   \n",
       "\n",
       "                       resolved     components  severity  \n",
       "0  2016-09-06T01:43:56.000+0000      Scheduler         3  \n",
       "1  2015-02-23T22:34:41.000+0000          MLlib         1  \n",
       "2  2015-01-28T20:54:23.000+0000           YARN        10  \n",
       "3  2014-12-27T07:25:26.000+0000     Spark Core         1  \n",
       "4  2014-12-25T15:06:12.000+0000  Documentation         3  "
      ]
     },
     "execution_count": 13,
     "metadata": {},
     "output_type": "execute_result"
    }
   ],
   "source": [
    "issues[issues.isnull()['resolution']].head()"
   ]
  },
  {
   "cell_type": "code",
   "execution_count": 14,
   "metadata": {
    "ExecuteTime": {
     "end_time": "2018-06-07T09:56:40.732059Z",
     "start_time": "2018-06-07T09:56:40.711867Z"
    },
    "run_control": {
     "marked": true
    }
   },
   "outputs": [
    {
     "data": {
      "text/html": [
       "<div>\n",
       "<style scoped>\n",
       "    .dataframe tbody tr th:only-of-type {\n",
       "        vertical-align: middle;\n",
       "    }\n",
       "\n",
       "    .dataframe tbody tr th {\n",
       "        vertical-align: top;\n",
       "    }\n",
       "\n",
       "    .dataframe thead th {\n",
       "        text-align: right;\n",
       "    }\n",
       "</style>\n",
       "<table border=\"1\" class=\"dataframe\">\n",
       "  <thead>\n",
       "    <tr style=\"text-align: right;\">\n",
       "      <th></th>\n",
       "      <th>key</th>\n",
       "      <th>jira_id</th>\n",
       "      <th>status_category</th>\n",
       "      <th>creator</th>\n",
       "      <th>priority</th>\n",
       "      <th>status</th>\n",
       "      <th>assignee</th>\n",
       "      <th>issuetype</th>\n",
       "      <th>reporter</th>\n",
       "      <th>resolution</th>\n",
       "      <th>project</th>\n",
       "      <th>updated</th>\n",
       "      <th>created</th>\n",
       "      <th>resolved</th>\n",
       "      <th>components</th>\n",
       "      <th>severity</th>\n",
       "    </tr>\n",
       "  </thead>\n",
       "  <tbody>\n",
       "    <tr>\n",
       "      <th>17</th>\n",
       "      <td>SPARK-4940</td>\n",
       "      <td>12763522</td>\n",
       "      <td>New</td>\n",
       "      <td>tnachen</td>\n",
       "      <td>Major</td>\n",
       "      <td>Open</td>\n",
       "      <td>NaN</td>\n",
       "      <td>Improvement</td>\n",
       "      <td>tnachen</td>\n",
       "      <td>NaN</td>\n",
       "      <td>Spark</td>\n",
       "      <td>2016-09-01T17:46:18.000+0000</td>\n",
       "      <td>2014-12-23T19:01:54.000+0000</td>\n",
       "      <td>NaN</td>\n",
       "      <td>Mesos</td>\n",
       "      <td>3</td>\n",
       "    </tr>\n",
       "    <tr>\n",
       "      <th>46</th>\n",
       "      <td>SPARK-4911</td>\n",
       "      <td>12763082</td>\n",
       "      <td>New</td>\n",
       "      <td>sandyr</td>\n",
       "      <td>Major</td>\n",
       "      <td>Open</td>\n",
       "      <td>NaN</td>\n",
       "      <td>New Feature</td>\n",
       "      <td>sandyr</td>\n",
       "      <td>NaN</td>\n",
       "      <td>Spark</td>\n",
       "      <td>2015-03-09T21:02:51.000+0000</td>\n",
       "      <td>2014-12-20T17:55:25.000+0000</td>\n",
       "      <td>NaN</td>\n",
       "      <td>Spark Core</td>\n",
       "      <td>3</td>\n",
       "    </tr>\n",
       "    <tr>\n",
       "      <th>51</th>\n",
       "      <td>SPARK-4906</td>\n",
       "      <td>12762931</td>\n",
       "      <td>New</td>\n",
       "      <td>mkim</td>\n",
       "      <td>Major</td>\n",
       "      <td>Open</td>\n",
       "      <td>NaN</td>\n",
       "      <td>Bug</td>\n",
       "      <td>mkim</td>\n",
       "      <td>NaN</td>\n",
       "      <td>Spark</td>\n",
       "      <td>2016-06-26T14:49:08.000+0000</td>\n",
       "      <td>2014-12-19T18:44:52.000+0000</td>\n",
       "      <td>NaN</td>\n",
       "      <td>Web UI</td>\n",
       "      <td>3</td>\n",
       "    </tr>\n",
       "    <tr>\n",
       "      <th>58</th>\n",
       "      <td>SPARK-4899</td>\n",
       "      <td>12762799</td>\n",
       "      <td>New</td>\n",
       "      <td>aash</td>\n",
       "      <td>Major</td>\n",
       "      <td>Open</td>\n",
       "      <td>NaN</td>\n",
       "      <td>New Feature</td>\n",
       "      <td>aash</td>\n",
       "      <td>NaN</td>\n",
       "      <td>Spark</td>\n",
       "      <td>2015-05-19T13:37:31.000+0000</td>\n",
       "      <td>2014-12-19T08:44:03.000+0000</td>\n",
       "      <td>NaN</td>\n",
       "      <td>Mesos</td>\n",
       "      <td>3</td>\n",
       "    </tr>\n",
       "    <tr>\n",
       "      <th>71</th>\n",
       "      <td>SPARK-4886</td>\n",
       "      <td>12762611</td>\n",
       "      <td>New</td>\n",
       "      <td>zhengxudong</td>\n",
       "      <td>Major</td>\n",
       "      <td>Open</td>\n",
       "      <td>NaN</td>\n",
       "      <td>Improvement</td>\n",
       "      <td>zhengxudong</td>\n",
       "      <td>NaN</td>\n",
       "      <td>Spark</td>\n",
       "      <td>2015-07-23T09:24:41.000+0000</td>\n",
       "      <td>2014-12-18T15:51:37.000+0000</td>\n",
       "      <td>NaN</td>\n",
       "      <td>SQL</td>\n",
       "      <td>3</td>\n",
       "    </tr>\n",
       "  </tbody>\n",
       "</table>\n",
       "</div>"
      ],
      "text/plain": [
       "           key   jira_id status_category      creator priority status  \\\n",
       "17  SPARK-4940  12763522             New      tnachen    Major   Open   \n",
       "46  SPARK-4911  12763082             New       sandyr    Major   Open   \n",
       "51  SPARK-4906  12762931             New         mkim    Major   Open   \n",
       "58  SPARK-4899  12762799             New         aash    Major   Open   \n",
       "71  SPARK-4886  12762611             New  zhengxudong    Major   Open   \n",
       "\n",
       "   assignee    issuetype     reporter  resolution project  \\\n",
       "17      NaN  Improvement      tnachen         NaN   Spark   \n",
       "46      NaN  New Feature       sandyr         NaN   Spark   \n",
       "51      NaN          Bug         mkim         NaN   Spark   \n",
       "58      NaN  New Feature         aash         NaN   Spark   \n",
       "71      NaN  Improvement  zhengxudong         NaN   Spark   \n",
       "\n",
       "                         updated                       created resolved  \\\n",
       "17  2016-09-01T17:46:18.000+0000  2014-12-23T19:01:54.000+0000      NaN   \n",
       "46  2015-03-09T21:02:51.000+0000  2014-12-20T17:55:25.000+0000      NaN   \n",
       "51  2016-06-26T14:49:08.000+0000  2014-12-19T18:44:52.000+0000      NaN   \n",
       "58  2015-05-19T13:37:31.000+0000  2014-12-19T08:44:03.000+0000      NaN   \n",
       "71  2015-07-23T09:24:41.000+0000  2014-12-18T15:51:37.000+0000      NaN   \n",
       "\n",
       "    components  severity  \n",
       "17       Mesos         3  \n",
       "46  Spark Core         3  \n",
       "51      Web UI         3  \n",
       "58       Mesos         3  \n",
       "71         SQL         3  "
      ]
     },
     "execution_count": 14,
     "metadata": {},
     "output_type": "execute_result"
    }
   ],
   "source": [
    "issues[issues.isnull()['resolved']].head()"
   ]
  },
  {
   "cell_type": "code",
   "execution_count": 15,
   "metadata": {
    "ExecuteTime": {
     "end_time": "2018-06-07T09:56:40.749961Z",
     "start_time": "2018-06-07T09:56:40.733059Z"
    },
    "run_control": {
     "marked": true
    }
   },
   "outputs": [
    {
     "data": {
      "text/html": [
       "<div>\n",
       "<style scoped>\n",
       "    .dataframe tbody tr th:only-of-type {\n",
       "        vertical-align: middle;\n",
       "    }\n",
       "\n",
       "    .dataframe tbody tr th {\n",
       "        vertical-align: top;\n",
       "    }\n",
       "\n",
       "    .dataframe thead th {\n",
       "        text-align: right;\n",
       "    }\n",
       "</style>\n",
       "<table border=\"1\" class=\"dataframe\">\n",
       "  <thead>\n",
       "    <tr style=\"text-align: right;\">\n",
       "      <th></th>\n",
       "      <th>key</th>\n",
       "      <th>jira_id</th>\n",
       "      <th>status_category</th>\n",
       "      <th>creator</th>\n",
       "      <th>priority</th>\n",
       "      <th>status</th>\n",
       "      <th>assignee</th>\n",
       "      <th>issuetype</th>\n",
       "      <th>reporter</th>\n",
       "      <th>resolution</th>\n",
       "      <th>project</th>\n",
       "      <th>updated</th>\n",
       "      <th>created</th>\n",
       "      <th>resolved</th>\n",
       "      <th>components</th>\n",
       "      <th>severity</th>\n",
       "    </tr>\n",
       "  </thead>\n",
       "  <tbody>\n",
       "    <tr>\n",
       "      <th>21</th>\n",
       "      <td>SPARK-4936</td>\n",
       "      <td>12763452</td>\n",
       "      <td>Complete</td>\n",
       "      <td>search4mahesh</td>\n",
       "      <td>Minor</td>\n",
       "      <td>Closed</td>\n",
       "      <td>NaN</td>\n",
       "      <td>Improvement</td>\n",
       "      <td>search4mahesh</td>\n",
       "      <td>NaN</td>\n",
       "      <td>Spark</td>\n",
       "      <td>2014-12-24T05:43:26.000+0000</td>\n",
       "      <td>2014-12-23T11:59:39.000+0000</td>\n",
       "      <td>2014-12-24T05:43:12.000+0000</td>\n",
       "      <td>NaN</td>\n",
       "      <td>1</td>\n",
       "    </tr>\n",
       "    <tr>\n",
       "      <th>31</th>\n",
       "      <td>SPARK-4926</td>\n",
       "      <td>12763357</td>\n",
       "      <td>Complete</td>\n",
       "      <td>Lily</td>\n",
       "      <td>Major</td>\n",
       "      <td>Resolved</td>\n",
       "      <td>NaN</td>\n",
       "      <td>Question</td>\n",
       "      <td>Lily</td>\n",
       "      <td>NaN</td>\n",
       "      <td>Spark</td>\n",
       "      <td>2014-12-25T15:12:28.000+0000</td>\n",
       "      <td>2014-12-23T02:06:35.000+0000</td>\n",
       "      <td>2014-12-25T15:12:28.000+0000</td>\n",
       "      <td>NaN</td>\n",
       "      <td>3</td>\n",
       "    </tr>\n",
       "    <tr>\n",
       "      <th>44</th>\n",
       "      <td>SPARK-4913</td>\n",
       "      <td>12763129</td>\n",
       "      <td>Complete</td>\n",
       "      <td>viirya</td>\n",
       "      <td>Major</td>\n",
       "      <td>Resolved</td>\n",
       "      <td>viirya</td>\n",
       "      <td>Bug</td>\n",
       "      <td>viirya</td>\n",
       "      <td>NaN</td>\n",
       "      <td>Spark</td>\n",
       "      <td>2014-12-23T22:59:46.000+0000</td>\n",
       "      <td>2014-12-21T16:14:44.000+0000</td>\n",
       "      <td>2014-12-23T22:59:35.000+0000</td>\n",
       "      <td>NaN</td>\n",
       "      <td>3</td>\n",
       "    </tr>\n",
       "    <tr>\n",
       "      <th>47</th>\n",
       "      <td>SPARK-4910</td>\n",
       "      <td>12763071</td>\n",
       "      <td>Complete</td>\n",
       "      <td>xhudik</td>\n",
       "      <td>Minor</td>\n",
       "      <td>Resolved</td>\n",
       "      <td>srowen</td>\n",
       "      <td>Bug</td>\n",
       "      <td>xhudik</td>\n",
       "      <td>NaN</td>\n",
       "      <td>Spark</td>\n",
       "      <td>2014-12-21T21:20:33.000+0000</td>\n",
       "      <td>2014-12-20T14:08:27.000+0000</td>\n",
       "      <td>2014-12-21T21:20:33.000+0000</td>\n",
       "      <td>NaN</td>\n",
       "      <td>1</td>\n",
       "    </tr>\n",
       "    <tr>\n",
       "      <th>62</th>\n",
       "      <td>SPARK-4895</td>\n",
       "      <td>12762759</td>\n",
       "      <td>Complete</td>\n",
       "      <td>zanehu</td>\n",
       "      <td>Major</td>\n",
       "      <td>Resolved</td>\n",
       "      <td>NaN</td>\n",
       "      <td>New Feature</td>\n",
       "      <td>zanehu</td>\n",
       "      <td>NaN</td>\n",
       "      <td>Spark</td>\n",
       "      <td>2015-02-08T13:17:36.000+0000</td>\n",
       "      <td>2014-12-19T04:09:41.000+0000</td>\n",
       "      <td>2015-02-08T13:17:36.000+0000</td>\n",
       "      <td>NaN</td>\n",
       "      <td>3</td>\n",
       "    </tr>\n",
       "  </tbody>\n",
       "</table>\n",
       "</div>"
      ],
      "text/plain": [
       "           key   jira_id status_category        creator priority    status  \\\n",
       "21  SPARK-4936  12763452        Complete  search4mahesh    Minor    Closed   \n",
       "31  SPARK-4926  12763357        Complete           Lily    Major  Resolved   \n",
       "44  SPARK-4913  12763129        Complete         viirya    Major  Resolved   \n",
       "47  SPARK-4910  12763071        Complete         xhudik    Minor  Resolved   \n",
       "62  SPARK-4895  12762759        Complete         zanehu    Major  Resolved   \n",
       "\n",
       "   assignee    issuetype       reporter  resolution project  \\\n",
       "21      NaN  Improvement  search4mahesh         NaN   Spark   \n",
       "31      NaN     Question           Lily         NaN   Spark   \n",
       "44   viirya          Bug         viirya         NaN   Spark   \n",
       "47   srowen          Bug         xhudik         NaN   Spark   \n",
       "62      NaN  New Feature         zanehu         NaN   Spark   \n",
       "\n",
       "                         updated                       created  \\\n",
       "21  2014-12-24T05:43:26.000+0000  2014-12-23T11:59:39.000+0000   \n",
       "31  2014-12-25T15:12:28.000+0000  2014-12-23T02:06:35.000+0000   \n",
       "44  2014-12-23T22:59:46.000+0000  2014-12-21T16:14:44.000+0000   \n",
       "47  2014-12-21T21:20:33.000+0000  2014-12-20T14:08:27.000+0000   \n",
       "62  2015-02-08T13:17:36.000+0000  2014-12-19T04:09:41.000+0000   \n",
       "\n",
       "                        resolved components  severity  \n",
       "21  2014-12-24T05:43:12.000+0000        NaN         1  \n",
       "31  2014-12-25T15:12:28.000+0000        NaN         3  \n",
       "44  2014-12-23T22:59:35.000+0000        NaN         3  \n",
       "47  2014-12-21T21:20:33.000+0000        NaN         1  \n",
       "62  2015-02-08T13:17:36.000+0000        NaN         3  "
      ]
     },
     "execution_count": 15,
     "metadata": {},
     "output_type": "execute_result"
    }
   ],
   "source": [
    "issues[issues.isnull()['components']].head()"
   ]
  },
  {
   "cell_type": "markdown",
   "metadata": {
    "heading_collapsed": true
   },
   "source": [
    "#### Nans overview\n",
    "Same but deeply"
   ]
  },
  {
   "cell_type": "code",
   "execution_count": 16,
   "metadata": {
    "ExecuteTime": {
     "end_time": "2018-06-07T09:56:40.764355Z",
     "start_time": "2018-06-07T09:56:40.751362Z"
    },
    "hidden": true,
    "run_control": {
     "marked": true
    }
   },
   "outputs": [
    {
     "data": {
      "text/plain": [
       "17580    5\n",
       "17764    5\n",
       "6795     5\n",
       "6796     5\n",
       "6797     5\n",
       "dtype: int64"
      ]
     },
     "execution_count": 16,
     "metadata": {},
     "output_type": "execute_result"
    }
   ],
   "source": [
    "issues.isnull().sum(axis=1).sort_values(ascending = False).head()"
   ]
  },
  {
   "cell_type": "code",
   "execution_count": 17,
   "metadata": {
    "ExecuteTime": {
     "end_time": "2018-06-07T09:56:40.768565Z",
     "start_time": "2018-06-07T09:56:40.765328Z"
    },
    "hidden": true,
    "run_control": {
     "marked": true
    }
   },
   "outputs": [
    {
     "data": {
      "text/plain": [
       "key                                   SPARK-375\n",
       "jira_id                                12705226\n",
       "status_category                        Complete\n",
       "creator                                     NaN\n",
       "priority                                    NaN\n",
       "status                                 Resolved\n",
       "assignee                                    NaN\n",
       "issuetype                                   Bug\n",
       "reporter                                   rxin\n",
       "resolution                                  NaN\n",
       "project                                   Spark\n",
       "updated            2012-10-19T22:50:36.000+0000\n",
       "created            0012-08-27T21:35:00.000+0000\n",
       "resolved           2012-10-19T22:50:36.000+0000\n",
       "components                                  NaN\n",
       "severity                                      0\n",
       "Name: 17580, dtype: object"
      ]
     },
     "execution_count": 17,
     "metadata": {},
     "output_type": "execute_result"
    }
   ],
   "source": [
    "issues.loc[17580]"
   ]
  },
  {
   "cell_type": "code",
   "execution_count": 18,
   "metadata": {
    "ExecuteTime": {
     "end_time": "2018-06-07T09:56:40.801650Z",
     "start_time": "2018-06-07T09:56:40.769450Z"
    },
    "hidden": true,
    "run_control": {
     "marked": true
    }
   },
   "outputs": [],
   "source": [
    "df.replace('None', np.nan, inplace=True)"
   ]
  },
  {
   "cell_type": "code",
   "execution_count": 19,
   "metadata": {
    "ExecuteTime": {
     "end_time": "2018-06-07T09:56:40.814243Z",
     "start_time": "2018-06-07T09:56:40.802583Z"
    },
    "hidden": true,
    "run_control": {
     "marked": true
    }
   },
   "outputs": [
    {
     "data": {
      "text/plain": [
       "key                     0\n",
       "cid                     0\n",
       "author_name             0\n",
       "author_email            0\n",
       "committer_name          0\n",
       "committer_email         0\n",
       "time                    0\n",
       "time_offset             0\n",
       "tree_id                 0\n",
       "message_encoding        0\n",
       "jira_id                 0\n",
       "status_category         0\n",
       "creator               505\n",
       "priority               14\n",
       "status                  0\n",
       "assignee              615\n",
       "issuetype               0\n",
       "reporter                2\n",
       "resolution          11475\n",
       "project                 0\n",
       "updated                 0\n",
       "created                 0\n",
       "resolved              118\n",
       "components            549\n",
       "severity                0\n",
       "dtype: int64"
      ]
     },
     "execution_count": 19,
     "metadata": {},
     "output_type": "execute_result"
    }
   ],
   "source": [
    "df.isnull().sum()"
   ]
  },
  {
   "cell_type": "code",
   "execution_count": 20,
   "metadata": {
    "ExecuteTime": {
     "end_time": "2018-06-07T09:56:40.827159Z",
     "start_time": "2018-06-07T09:56:40.815448Z"
    },
    "hidden": true,
    "run_control": {
     "marked": true
    }
   },
   "outputs": [],
   "source": [
    "peak.replace('None', np.nan, inplace=True)"
   ]
  },
  {
   "cell_type": "code",
   "execution_count": 21,
   "metadata": {
    "ExecuteTime": {
     "end_time": "2018-06-07T09:56:40.835420Z",
     "start_time": "2018-06-07T09:56:40.828266Z"
    },
    "hidden": true,
    "run_control": {
     "marked": true
    }
   },
   "outputs": [
    {
     "data": {
      "text/plain": [
       "author_name         0\n",
       "author_email        0\n",
       "committer_name      0\n",
       "committer_email     0\n",
       "time                0\n",
       "time_offset         0\n",
       "message_encoding    0\n",
       "severity            0\n",
       "dtype: int64"
      ]
     },
     "execution_count": 21,
     "metadata": {},
     "output_type": "execute_result"
    }
   ],
   "source": [
    "peak.isnull().sum()"
   ]
  },
  {
   "cell_type": "markdown",
   "metadata": {},
   "source": [
    "#### Fast statistics\n",
    "describe()"
   ]
  },
  {
   "cell_type": "code",
   "execution_count": 22,
   "metadata": {
    "ExecuteTime": {
     "end_time": "2018-06-07T09:56:40.852791Z",
     "start_time": "2018-06-07T09:56:40.836637Z"
    },
    "run_control": {
     "marked": true
    }
   },
   "outputs": [
    {
     "data": {
      "text/html": [
       "<div>\n",
       "<style scoped>\n",
       "    .dataframe tbody tr th:only-of-type {\n",
       "        vertical-align: middle;\n",
       "    }\n",
       "\n",
       "    .dataframe tbody tr th {\n",
       "        vertical-align: top;\n",
       "    }\n",
       "\n",
       "    .dataframe thead th {\n",
       "        text-align: right;\n",
       "    }\n",
       "</style>\n",
       "<table border=\"1\" class=\"dataframe\">\n",
       "  <thead>\n",
       "    <tr style=\"text-align: right;\">\n",
       "      <th></th>\n",
       "      <th>count</th>\n",
       "      <th>mean</th>\n",
       "      <th>std</th>\n",
       "      <th>min</th>\n",
       "      <th>25%</th>\n",
       "      <th>50%</th>\n",
       "      <th>75%</th>\n",
       "      <th>max</th>\n",
       "    </tr>\n",
       "  </thead>\n",
       "  <tbody>\n",
       "    <tr>\n",
       "      <th>time</th>\n",
       "      <td>11475.0</td>\n",
       "      <td>1.438432e+09</td>\n",
       "      <td>2.351386e+07</td>\n",
       "      <td>1.350714e+09</td>\n",
       "      <td>1.422581e+09</td>\n",
       "      <td>1.438761e+09</td>\n",
       "      <td>1.458332e+09</td>\n",
       "      <td>1.478510e+09</td>\n",
       "    </tr>\n",
       "    <tr>\n",
       "      <th>time_offset</th>\n",
       "      <td>11475.0</td>\n",
       "      <td>-3.495582e+02</td>\n",
       "      <td>2.278502e+02</td>\n",
       "      <td>-6.000000e+02</td>\n",
       "      <td>-4.200000e+02</td>\n",
       "      <td>-4.200000e+02</td>\n",
       "      <td>-4.200000e+02</td>\n",
       "      <td>5.400000e+02</td>\n",
       "    </tr>\n",
       "    <tr>\n",
       "      <th>severity</th>\n",
       "      <td>11475.0</td>\n",
       "      <td>3.129586e+00</td>\n",
       "      <td>2.392655e+00</td>\n",
       "      <td>0.000000e+00</td>\n",
       "      <td>1.000000e+00</td>\n",
       "      <td>3.000000e+00</td>\n",
       "      <td>3.000000e+00</td>\n",
       "      <td>1.000000e+01</td>\n",
       "    </tr>\n",
       "  </tbody>\n",
       "</table>\n",
       "</div>"
      ],
      "text/plain": [
       "               count          mean           std           min           25%  \\\n",
       "time         11475.0  1.438432e+09  2.351386e+07  1.350714e+09  1.422581e+09   \n",
       "time_offset  11475.0 -3.495582e+02  2.278502e+02 -6.000000e+02 -4.200000e+02   \n",
       "severity     11475.0  3.129586e+00  2.392655e+00  0.000000e+00  1.000000e+00   \n",
       "\n",
       "                      50%           75%           max  \n",
       "time         1.438761e+09  1.458332e+09  1.478510e+09  \n",
       "time_offset -4.200000e+02 -4.200000e+02  5.400000e+02  \n",
       "severity     3.000000e+00  3.000000e+00  1.000000e+01  "
      ]
     },
     "execution_count": 22,
     "metadata": {},
     "output_type": "execute_result"
    }
   ],
   "source": [
    "peak.describe().T"
   ]
  },
  {
   "cell_type": "code",
   "execution_count": 23,
   "metadata": {
    "ExecuteTime": {
     "end_time": "2018-06-07T09:56:40.872197Z",
     "start_time": "2018-06-07T09:56:40.853901Z"
    },
    "run_control": {
     "marked": true
    }
   },
   "outputs": [
    {
     "data": {
      "text/html": [
       "<div>\n",
       "<style scoped>\n",
       "    .dataframe tbody tr th:only-of-type {\n",
       "        vertical-align: middle;\n",
       "    }\n",
       "\n",
       "    .dataframe tbody tr th {\n",
       "        vertical-align: top;\n",
       "    }\n",
       "\n",
       "    .dataframe thead th {\n",
       "        text-align: right;\n",
       "    }\n",
       "</style>\n",
       "<table border=\"1\" class=\"dataframe\">\n",
       "  <thead>\n",
       "    <tr style=\"text-align: right;\">\n",
       "      <th></th>\n",
       "      <th>count</th>\n",
       "      <th>mean</th>\n",
       "      <th>std</th>\n",
       "      <th>min</th>\n",
       "      <th>25%</th>\n",
       "      <th>50%</th>\n",
       "      <th>75%</th>\n",
       "      <th>max</th>\n",
       "    </tr>\n",
       "  </thead>\n",
       "  <tbody>\n",
       "    <tr>\n",
       "      <th>time</th>\n",
       "      <td>11475.0</td>\n",
       "      <td>1.438432e+09</td>\n",
       "      <td>2.351386e+07</td>\n",
       "      <td>1.350714e+09</td>\n",
       "      <td>1.422581e+09</td>\n",
       "      <td>1.438761e+09</td>\n",
       "      <td>1.458332e+09</td>\n",
       "      <td>1.478510e+09</td>\n",
       "    </tr>\n",
       "    <tr>\n",
       "      <th>time_offset</th>\n",
       "      <td>11475.0</td>\n",
       "      <td>-3.495582e+02</td>\n",
       "      <td>2.278502e+02</td>\n",
       "      <td>-6.000000e+02</td>\n",
       "      <td>-4.200000e+02</td>\n",
       "      <td>-4.200000e+02</td>\n",
       "      <td>-4.200000e+02</td>\n",
       "      <td>5.400000e+02</td>\n",
       "    </tr>\n",
       "    <tr>\n",
       "      <th>jira_id</th>\n",
       "      <td>11475.0</td>\n",
       "      <td>1.285133e+07</td>\n",
       "      <td>9.623483e+04</td>\n",
       "      <td>1.270443e+07</td>\n",
       "      <td>1.275909e+07</td>\n",
       "      <td>1.284466e+07</td>\n",
       "      <td>1.294092e+07</td>\n",
       "      <td>1.301873e+07</td>\n",
       "    </tr>\n",
       "    <tr>\n",
       "      <th>resolution</th>\n",
       "      <td>0.0</td>\n",
       "      <td>NaN</td>\n",
       "      <td>NaN</td>\n",
       "      <td>NaN</td>\n",
       "      <td>NaN</td>\n",
       "      <td>NaN</td>\n",
       "      <td>NaN</td>\n",
       "      <td>NaN</td>\n",
       "    </tr>\n",
       "    <tr>\n",
       "      <th>severity</th>\n",
       "      <td>11475.0</td>\n",
       "      <td>3.129586e+00</td>\n",
       "      <td>2.392655e+00</td>\n",
       "      <td>0.000000e+00</td>\n",
       "      <td>1.000000e+00</td>\n",
       "      <td>3.000000e+00</td>\n",
       "      <td>3.000000e+00</td>\n",
       "      <td>1.000000e+01</td>\n",
       "    </tr>\n",
       "  </tbody>\n",
       "</table>\n",
       "</div>"
      ],
      "text/plain": [
       "               count          mean           std           min           25%  \\\n",
       "time         11475.0  1.438432e+09  2.351386e+07  1.350714e+09  1.422581e+09   \n",
       "time_offset  11475.0 -3.495582e+02  2.278502e+02 -6.000000e+02 -4.200000e+02   \n",
       "jira_id      11475.0  1.285133e+07  9.623483e+04  1.270443e+07  1.275909e+07   \n",
       "resolution       0.0           NaN           NaN           NaN           NaN   \n",
       "severity     11475.0  3.129586e+00  2.392655e+00  0.000000e+00  1.000000e+00   \n",
       "\n",
       "                      50%           75%           max  \n",
       "time         1.438761e+09  1.458332e+09  1.478510e+09  \n",
       "time_offset -4.200000e+02 -4.200000e+02  5.400000e+02  \n",
       "jira_id      1.284466e+07  1.294092e+07  1.301873e+07  \n",
       "resolution            NaN           NaN           NaN  \n",
       "severity     3.000000e+00  3.000000e+00  1.000000e+01  "
      ]
     },
     "execution_count": 23,
     "metadata": {},
     "output_type": "execute_result"
    }
   ],
   "source": [
    "df.describe().T"
   ]
  },
  {
   "cell_type": "code",
   "execution_count": 24,
   "metadata": {
    "ExecuteTime": {
     "end_time": "2018-06-07T09:56:40.888763Z",
     "start_time": "2018-06-07T09:56:40.873525Z"
    },
    "run_control": {
     "marked": true
    }
   },
   "outputs": [
    {
     "data": {
      "text/html": [
       "<div>\n",
       "<style scoped>\n",
       "    .dataframe tbody tr th:only-of-type {\n",
       "        vertical-align: middle;\n",
       "    }\n",
       "\n",
       "    .dataframe tbody tr th {\n",
       "        vertical-align: top;\n",
       "    }\n",
       "\n",
       "    .dataframe thead th {\n",
       "        text-align: right;\n",
       "    }\n",
       "</style>\n",
       "<table border=\"1\" class=\"dataframe\">\n",
       "  <thead>\n",
       "    <tr style=\"text-align: right;\">\n",
       "      <th></th>\n",
       "      <th>count</th>\n",
       "      <th>mean</th>\n",
       "      <th>std</th>\n",
       "      <th>min</th>\n",
       "      <th>25%</th>\n",
       "      <th>50%</th>\n",
       "      <th>75%</th>\n",
       "      <th>max</th>\n",
       "    </tr>\n",
       "  </thead>\n",
       "  <tbody>\n",
       "    <tr>\n",
       "      <th>jira_id</th>\n",
       "      <td>17966.0</td>\n",
       "      <td>1.285459e+07</td>\n",
       "      <td>99177.539902</td>\n",
       "      <td>12704427.0</td>\n",
       "      <td>12760031.5</td>\n",
       "      <td>12848646.0</td>\n",
       "      <td>12948633.0</td>\n",
       "      <td>13018756.0</td>\n",
       "    </tr>\n",
       "    <tr>\n",
       "      <th>resolution</th>\n",
       "      <td>0.0</td>\n",
       "      <td>NaN</td>\n",
       "      <td>NaN</td>\n",
       "      <td>NaN</td>\n",
       "      <td>NaN</td>\n",
       "      <td>NaN</td>\n",
       "      <td>NaN</td>\n",
       "      <td>NaN</td>\n",
       "    </tr>\n",
       "    <tr>\n",
       "      <th>severity</th>\n",
       "      <td>17966.0</td>\n",
       "      <td>2.853891e+00</td>\n",
       "      <td>2.091339</td>\n",
       "      <td>0.0</td>\n",
       "      <td>1.0</td>\n",
       "      <td>3.0</td>\n",
       "      <td>3.0</td>\n",
       "      <td>10.0</td>\n",
       "    </tr>\n",
       "  </tbody>\n",
       "</table>\n",
       "</div>"
      ],
      "text/plain": [
       "              count          mean           std         min         25%  \\\n",
       "jira_id     17966.0  1.285459e+07  99177.539902  12704427.0  12760031.5   \n",
       "resolution      0.0           NaN           NaN         NaN         NaN   \n",
       "severity    17966.0  2.853891e+00      2.091339         0.0         1.0   \n",
       "\n",
       "                   50%         75%         max  \n",
       "jira_id     12848646.0  12948633.0  13018756.0  \n",
       "resolution         NaN         NaN         NaN  \n",
       "severity           3.0         3.0        10.0  "
      ]
     },
     "execution_count": 24,
     "metadata": {},
     "output_type": "execute_result"
    }
   ],
   "source": [
    "issues.describe().T"
   ]
  },
  {
   "cell_type": "code",
   "execution_count": 25,
   "metadata": {
    "ExecuteTime": {
     "end_time": "2018-06-07T09:56:40.903795Z",
     "start_time": "2018-06-07T09:56:40.889968Z"
    },
    "run_control": {
     "marked": true
    }
   },
   "outputs": [
    {
     "data": {
      "text/html": [
       "<div>\n",
       "<style scoped>\n",
       "    .dataframe tbody tr th:only-of-type {\n",
       "        vertical-align: middle;\n",
       "    }\n",
       "\n",
       "    .dataframe tbody tr th {\n",
       "        vertical-align: top;\n",
       "    }\n",
       "\n",
       "    .dataframe thead th {\n",
       "        text-align: right;\n",
       "    }\n",
       "</style>\n",
       "<table border=\"1\" class=\"dataframe\">\n",
       "  <thead>\n",
       "    <tr style=\"text-align: right;\">\n",
       "      <th></th>\n",
       "      <th>count</th>\n",
       "      <th>mean</th>\n",
       "      <th>std</th>\n",
       "      <th>min</th>\n",
       "      <th>25%</th>\n",
       "      <th>50%</th>\n",
       "      <th>75%</th>\n",
       "      <th>max</th>\n",
       "    </tr>\n",
       "  </thead>\n",
       "  <tbody>\n",
       "    <tr>\n",
       "      <th>time</th>\n",
       "      <td>19226.0</td>\n",
       "      <td>1.413722e+09</td>\n",
       "      <td>4.242159e+07</td>\n",
       "      <td>1.269905e+09</td>\n",
       "      <td>1.383373e+09</td>\n",
       "      <td>1.421787e+09</td>\n",
       "      <td>1.447799e+09</td>\n",
       "      <td>1.478510e+09</td>\n",
       "    </tr>\n",
       "    <tr>\n",
       "      <th>time_offset</th>\n",
       "      <td>19226.0</td>\n",
       "      <td>-3.476417e+02</td>\n",
       "      <td>2.344729e+02</td>\n",
       "      <td>-6.000000e+02</td>\n",
       "      <td>-4.800000e+02</td>\n",
       "      <td>-4.200000e+02</td>\n",
       "      <td>-4.200000e+02</td>\n",
       "      <td>5.400000e+02</td>\n",
       "    </tr>\n",
       "  </tbody>\n",
       "</table>\n",
       "</div>"
      ],
      "text/plain": [
       "               count          mean           std           min           25%  \\\n",
       "time         19226.0  1.413722e+09  4.242159e+07  1.269905e+09  1.383373e+09   \n",
       "time_offset  19226.0 -3.476417e+02  2.344729e+02 -6.000000e+02 -4.800000e+02   \n",
       "\n",
       "                      50%           75%           max  \n",
       "time         1.421787e+09  1.447799e+09  1.478510e+09  \n",
       "time_offset -4.200000e+02 -4.200000e+02  5.400000e+02  "
      ]
     },
     "execution_count": 25,
     "metadata": {},
     "output_type": "execute_result"
    }
   ],
   "source": [
    "commits.describe().T"
   ]
  },
  {
   "cell_type": "markdown",
   "metadata": {
    "heading_collapsed": true
   },
   "source": [
    "#### Time enc\n",
    "From unix to human time"
   ]
  },
  {
   "cell_type": "code",
   "execution_count": 26,
   "metadata": {
    "ExecuteTime": {
     "end_time": "2018-06-07T09:56:40.907477Z",
     "start_time": "2018-06-07T09:56:40.906080Z"
    },
    "hidden": true,
    "run_control": {
     "marked": true
    }
   },
   "outputs": [],
   "source": [
    "import datetime"
   ]
  },
  {
   "cell_type": "code",
   "execution_count": 27,
   "metadata": {
    "ExecuteTime": {
     "end_time": "2018-06-07T09:56:40.940158Z",
     "start_time": "2018-06-07T09:56:40.908331Z"
    },
    "hidden": true,
    "run_control": {
     "marked": true
    }
   },
   "outputs": [],
   "source": [
    "peak['time'] = peak['time'].apply(lambda x: datetime.datetime.fromtimestamp(int(x)).strftime('%Y-%m-%dT%H:%M:%S'))"
   ]
  },
  {
   "cell_type": "markdown",
   "metadata": {
    "heading_collapsed": true
   },
   "source": [
    "#### Plot number of unique values"
   ]
  },
  {
   "cell_type": "code",
   "execution_count": 28,
   "metadata": {
    "ExecuteTime": {
     "end_time": "2018-06-07T09:56:40.947682Z",
     "start_time": "2018-06-07T09:56:40.941111Z"
    },
    "hidden": true,
    "run_control": {
     "marked": true
    }
   },
   "outputs": [],
   "source": [
    "def plot_nunique(df):\n",
    "    ''' \n",
    "    Plot hist number of unique elements for each column\n",
    "    '''\n",
    "    nunique = df.nunique(dropna=False)\n",
    "    plt.figure(figsize=(10,6))\n",
    "    _ = plt.hist(nunique.astype(float)/df.shape[0], bins=50)\n",
    "    plt.show()"
   ]
  },
  {
   "cell_type": "code",
   "execution_count": 29,
   "metadata": {
    "ExecuteTime": {
     "end_time": "2018-06-07T09:56:41.250289Z",
     "start_time": "2018-06-07T09:56:40.948775Z"
    },
    "hidden": true,
    "run_control": {
     "marked": true
    }
   },
   "outputs": [
    {
     "name": "stdout",
     "output_type": "stream",
     "text": [
      "Peaked columns\n"
     ]
    },
    {
     "data": {
      "image/png": "[encoded data removed]",
      "text/plain": [
       "<Figure size 720x432 with 1 Axes>"
      ]
     },
     "metadata": {},
     "output_type": "display_data"
    },
    {
     "name": "stdout",
     "output_type": "stream",
     "text": [
      "Merged on key\n"
     ]
    },
    {
     "data": {
      "image/png": "[encoded data removed]",
      "text/plain": [
       "<Figure size 720x432 with 1 Axes>"
      ]
     },
     "metadata": {},
     "output_type": "display_data"
    }
   ],
   "source": [
    "print('Peaked columns')\n",
    "plot_nunique(peak)\n",
    "print('Merged on key')\n",
    "plot_nunique(df)"
   ]
  },
  {
   "cell_type": "markdown",
   "metadata": {
    "heading_collapsed": true
   },
   "source": [
    "#### Plot duplicates count"
   ]
  },
  {
   "cell_type": "code",
   "execution_count": 30,
   "metadata": {
    "ExecuteTime": {
     "end_time": "2018-06-07T09:56:41.253660Z",
     "start_time": "2018-06-07T09:56:41.251343Z"
    },
    "hidden": true,
    "run_control": {
     "marked": true
    }
   },
   "outputs": [],
   "source": [
    "def plot_duplicates(df):\n",
    "    ''' \n",
    "    Plot hist number of duplicated elements for each column\n",
    "    '''\n",
    "    result = {col:df.duplicated([col]).sum() for col in df.columns}\n",
    "    plt.figure(figsize=(6,8))\n",
    "    plt.barh(list(result.keys()), list(result.values()), color='g', alpha=0.5)\n",
    "    plt.show()"
   ]
  },
  {
   "cell_type": "code",
   "execution_count": 31,
   "metadata": {
    "ExecuteTime": {
     "end_time": "2018-06-07T09:56:41.544761Z",
     "start_time": "2018-06-07T09:56:41.254668Z"
    },
    "hidden": true,
    "run_control": {
     "marked": true
    }
   },
   "outputs": [
    {
     "name": "stdout",
     "output_type": "stream",
     "text": [
      "Peaked columns\n"
     ]
    },
    {
     "data": {
      "image/png": "[encoded data removed]",
      "text/plain": [
       "<Figure size 432x576 with 1 Axes>"
      ]
     },
     "metadata": {},
     "output_type": "display_data"
    },
    {
     "name": "stdout",
     "output_type": "stream",
     "text": [
      "Merged on key\n"
     ]
    },
    {
     "data": {
      "image/png": "[encoded data removed]",
      "text/plain": [
       "<Figure size 432x576 with 1 Axes>"
      ]
     },
     "metadata": {},
     "output_type": "display_data"
    }
   ],
   "source": [
    "print('Peaked columns')\n",
    "plot_duplicates(peak)\n",
    "print('Merged on key')\n",
    "plot_duplicates(df)"
   ]
  },
  {
   "cell_type": "markdown",
   "metadata": {
    "heading_collapsed": true
   },
   "source": [
    "#### Value counts"
   ]
  },
  {
   "cell_type": "code",
   "execution_count": 32,
   "metadata": {
    "ExecuteTime": {
     "end_time": "2018-06-07T09:56:41.549832Z",
     "start_time": "2018-06-07T09:56:41.545853Z"
    },
    "hidden": true,
    "run_control": {
     "marked": true
    }
   },
   "outputs": [],
   "source": [
    "def hist(data, name, col, count, dir_name, show):\n",
    "    '''\n",
    "    data - value counts Series\n",
    "    name - additional name for your plot\n",
    "    count - the shape of value counts\n",
    "    dir_name - additional directory for plot\n",
    "    show - plot show or not\n",
    "    '''\n",
    "    plt.close()\n",
    "    plt.figure(figsize=(6,8))\n",
    "    plt.barh(data.index, data.values, color='g', alpha=0.6)\n",
    "    plt.xlabel('Count')\n",
    "    plt.ylabel('Top 15 values of ' + str(count))\n",
    "    plt.title(col)\n",
    "    \n",
    "    if dir_name != None:\n",
    "        if dir_name not in os.listdir('plot'):\n",
    "            os.mkdir('plot/' + dir_name+'/')\n",
    "        plt.savefig('plot/' + dir_name+ '/' + name + \"_test_\" + col + \".png\")\n",
    "    else:\n",
    "        plt.savefig('plot/' + name + \"_test_\" + col + \".png\")\n",
    "\n",
    "    if show == True:\n",
    "        plt.show()\n",
    "    else:\n",
    "        plt.ioff()\n",
    "        plt.close()\n",
    "\n",
    "def val_count(df, m_plot = False, name = 'Test', dir_name = None, show = True):\n",
    "    ''' \n",
    "    \n",
    "    Vizualize count of top 15 values in each column of the inputed DataFrame.\n",
    "    \n",
    "    m_plot: bool([True, False]), show pd.Series value count for each column. Saving each plot;\n",
    "    name: str(), additional name for plot (if m_plot = True);\n",
    "    dir_name: str(), default(None), additional directory for your plots;\n",
    "    show: bool([True, False]), show your plot in notebook\n",
    "    \n",
    "    '''\n",
    "    \n",
    "    for col in df.columns:\n",
    "        if col != 'message_encoding':\n",
    "            if m_plot == False:\n",
    "                print (df[col].value_counts().head(15))\n",
    "                print ('Column val_count ' + str(col) + ' shape: ' + str(df[col].value_counts().shape))\n",
    "            else:\n",
    "                hist(df[col].value_counts().head(15), name, col, df[col].value_counts().shape[0], dir_name, show)\n",
    "                plt.close()"
   ]
  },
  {
   "cell_type": "code",
   "execution_count": 33,
   "metadata": {
    "ExecuteTime": {
     "end_time": "2018-06-07T09:56:41.648776Z",
     "start_time": "2018-06-07T09:56:41.550953Z"
    },
    "hidden": true,
    "run_control": {
     "marked": true
    },
    "scrolled": true
   },
   "outputs": [
    {
     "name": "stdout",
     "output_type": "stream",
     "text": [
      "SPARK-12692    11\n",
      "SPARK-1097     11\n",
      "SPARK-3873     10\n",
      "SPARK-1758      9\n",
      "SPARK-6428      8\n",
      "SPARK-7927      7\n",
      "SPARK-2871      6\n",
      "SPARK-6765      6\n",
      "SPARK-18167     6\n",
      "SPARK-1812      6\n",
      "SPARK-6602      6\n",
      "SPARK-4397      6\n",
      "SPARK-15031     5\n",
      "SPARK-11337     5\n",
      "SPARK-2410      5\n",
      "Name: key, dtype: int64\n",
      "Column val_count key shape: (9857,)\n",
      "337c16d57e40cb4967bf85269baae14745f161db    13\n",
      "dff015533dd7b01b5e392f1ac5f3837e0a65f3f4    13\n",
      "0b0b9ceaf73de472198c9804fb7ae61fa2a2e097    12\n",
      "83b682beec884da76708769414108f4316e620f2    11\n",
      "287bea13050b8eedc3b8b6b3491f1b5e5bc24d7a     9\n",
      "3a8b68b7353fea50245686903b308fa9eb52cb51     9\n",
      "1df05a40ebf3493b0aff46d18c0f30d2d5256c7b     6\n",
      "1abf7dc16ca1ba1777fe874c8b81fe6f2b0a6de5     6\n",
      "c032b0bf92130dc4facb003f0deaeb1228aefded     6\n",
      "4ffc27caaf46ffac56c3c0b3e928f1aff227a184     6\n",
      "72981bc8f0d421e2563e2543a8c16a8cc76ad3aa     5\n",
      "c03299a18b4e076cabb4b7833a1e7632c5c0dabe     5\n",
      "ac96d9657c9a9f89a455a1b671c059d896012d41     5\n",
      "4f60651cbec1b4c9cc2e6d832ace77e89a233f3a     5\n",
      "db06a81fb7a413faa3fe0f8c35918f70454cb05d     5\n",
      "Name: cid, dtype: int64\n",
      "Column val_count cid shape: (10347,)\n",
      "Reynold Xin         720\n",
      "Davies Liu          489\n",
      "Josh Rosen          408\n",
      "Wenchen Fan         339\n",
      "Andrew Or           339\n",
      "Cheng Lian          336\n",
      "Xiangrui Meng       331\n",
      "Sean Owen           307\n",
      "Yin Huai            274\n",
      "Yanbo Liang         228\n",
      "zsxwing             221\n",
      "Liang-Chi Hsieh     215\n",
      "Marcelo Vanzin      205\n",
      "Michael Armbrust    204\n",
      "gatorsmile          189\n",
      "Name: author_name, dtype: int64\n",
      "Column val_count author_name shape: (1046,)\n",
      "rxin@databricks.com         581\n",
      "davies@databricks.com       415\n",
      "joshrosen@databricks.com    349\n",
      "meng@databricks.com         331\n",
      "sowen@cloudera.com          293\n",
      "andrew@databricks.com       271\n",
      "lian@databricks.com         267\n",
      "yhuai@databricks.com        240\n",
      "wenchen@databricks.com      230\n",
      "ybliang8@gmail.com          226\n",
      "zsxwing@gmail.com           221\n",
      "vanzin@cloudera.com         205\n",
      "michael@databricks.com      204\n",
      "gatorsmile@gmail.com        189\n",
      "dongjoon@apache.org         178\n",
      "Name: author_email, dtype: int64\n",
      "Column val_count author_email shape: (1072,)\n",
      "Reynold Xin              2100\n",
      "Xiangrui Meng            1072\n",
      "Michael Armbrust         1061\n",
      "Sean Owen                 936\n",
      "Andrew Or                 863\n",
      "Patrick Wendell           744\n",
      "Josh Rosen                599\n",
      "Davies Liu                572\n",
      "Yin Huai                  503\n",
      "Joseph K. Bradley         409\n",
      "Tathagata Das             374\n",
      "Cheng Lian                322\n",
      "Shivaram Venkataraman     269\n",
      "Matei Zaharia             229\n",
      "Wenchen Fan               228\n",
      "Name: committer_name, dtype: int64\n",
      "Column val_count committer_name shape: (61,)\n",
      "rxin@databricks.com            1766\n",
      "meng@databricks.com            1072\n",
      "michael@databricks.com         1061\n",
      "sowen@cloudera.com              935\n",
      "andrew@databricks.com           778\n",
      "pwendell@gmail.com              626\n",
      "davies.liu@gmail.com            515\n",
      "yhuai@databricks.com            503\n",
      "joshrosen@databricks.com        473\n",
      "joseph@databricks.com           409\n",
      "tathagata.das1565@gmail.com     373\n",
      "lian@databricks.com             322\n",
      "rxin@apache.org                 321\n",
      "shivaram@cs.berkeley.edu        268\n",
      "wenchen@databricks.com          228\n",
      "Name: committer_email, dtype: int64\n",
      "Column val_count committer_email shape: (82,)\n",
      "1434067581    13\n",
      "1414607227    13\n",
      "1436465494    12\n",
      "1437284885    11\n",
      "1471583808     9\n",
      "1408068093     9\n",
      "1438287706     6\n",
      "1437457085     6\n",
      "1436395861     6\n",
      "1414616460     6\n",
      "1435992321     5\n",
      "1452637625     5\n",
      "1402689588     5\n",
      "1416960429     5\n",
      "1407783249     5\n",
      "Name: time, dtype: int64\n",
      "Column val_count time shape: (10347,)\n",
      "-420    6891\n",
      "-480    2746\n",
      " 60      539\n",
      " 480     467\n",
      " 0       325\n",
      "-300     180\n",
      " 120     155\n",
      "-240      83\n",
      "-360      44\n",
      " 540      28\n",
      " 330      10\n",
      "-600       5\n",
      " 180       2\n",
      "Name: time_offset, dtype: int64\n",
      "Column val_count time_offset shape: (13,)\n",
      "4314afec5436543c277a04d034a94aac200a23d1    13\n",
      "ab201ed2a080bf1cc60502e62d1b00db16ece1cc    13\n",
      "e6e86d9c5921fdd26a1393beffa3e1b7bc6f2504    12\n",
      "1ee1d505a787434e962981a8cacc8ce69df48026    11\n",
      "fcadf12460f8ed7c850d068a5dc366b9af1cf2bd     9\n",
      "06f68fcbd5774ede799a8f3633377f1298c5303e     9\n",
      "319086e2ffcb624d779a37a7cfb8482a894853ac     6\n",
      "8f41efd630790d6b27f32780087ce4c1a2889724     6\n",
      "7d11e7e6e9188426d763ac4aac99e67608b7e85e     6\n",
      "2a48b364f0afb53e1ff10dac554b54d54abfa11b     6\n",
      "44fd285926f1db63488710d610bc9be38fd274b0     5\n",
      "f35f52623f9abb16ff260a3e4832327dc242f40a     5\n",
      "2e2437cf66f651c62b521557c8fea4957f999c70     5\n",
      "7d6b7e1766aadf0a875d5577ee349b73c817ceef     5\n",
      "1dda4a0e7d3e4305fce65529cf3b3862c7f52330     5\n",
      "Name: tree_id, dtype: int64\n",
      "Column val_count tree_id shape: (10298,)\n",
      "12704582    11\n",
      "12928287    11\n",
      "12746942    10\n",
      "12713026     9\n",
      "12783512     8\n",
      "12833591     7\n",
      "12819197     6\n",
      "12732185     6\n",
      "12786595     6\n",
      "12755284     6\n",
      "12713790     6\n",
      "13016296     6\n",
      "12912328     5\n",
      "12783099     5\n",
      "12928760     5\n",
      "Name: jira_id, dtype: int64\n",
      "Column val_count jira_id shape: (9857,)\n",
      "Complete       11357\n",
      "In Progress       73\n",
      "New               45\n",
      "Name: status_category, dtype: int64\n",
      "Column val_count status_category shape: (3,)\n",
      "rxin          1013\n",
      "mengxr         529\n",
      "josephkb       415\n",
      "davies         395\n",
      "joshrosen      345\n",
      "yhuai          311\n",
      "zsxwing        296\n",
      "marmbrus       290\n",
      "lian cheng     284\n",
      "andrewor14     257\n",
      "cloud_fan      256\n",
      "pwendell       219\n",
      "tdas           185\n",
      "vanzin         161\n",
      "yanboliang     157\n",
      "Name: creator, dtype: int64\n",
      "Column val_count creator shape: (1161,)\n",
      "Major       6324\n",
      "Minor       2660\n",
      "Critical     972\n",
      "Blocker      942\n",
      "Trivial      563\n",
      "Name: priority, dtype: int64\n",
      "Column val_count priority shape: (5,)\n",
      "Resolved       10783\n",
      "Closed           574\n",
      "In Progress       73\n",
      "Open              25\n",
      "Reopened          20\n",
      "Name: status, dtype: int64\n",
      "Column val_count status shape: (5,)\n",
      "rxin          655\n",
      "davies        493\n",
      "joshrosen     388\n",
      "zsxwing       358\n",
      "cloud_fan     335\n",
      "lian cheng    321\n",
      "andrewor14    313\n",
      "mengxr        302\n",
      "srowen        275\n",
      "viirya        223\n",
      "yhuai         221\n",
      "vanzin        209\n",
      "marmbrus      208\n",
      "yanboliang    208\n",
      "smilegator    185\n",
      "Name: assignee, dtype: int64\n",
      "Column val_count assignee shape: (886,)\n",
      "Bug                   4664\n",
      "Improvement           3332\n",
      "Sub-task              2232\n",
      "New Feature            634\n",
      "Documentation          284\n",
      "Test                   137\n",
      "Task                   117\n",
      "Umbrella                25\n",
      "Dependency upgrade      21\n",
      "Story                    8\n",
      "Wish                     7\n",
      "Epic                     4\n",
      "Technical task           4\n",
      "Question                 3\n",
      "Brainstorming            2\n",
      "Name: issuetype, dtype: int64\n",
      "Column val_count issuetype shape: (16,)\n",
      "rxin          1066\n",
      "mengxr         542\n",
      "josephkb       417\n",
      "davies         395\n",
      "joshrosen      389\n",
      "yhuai          311\n",
      "andrewor14     306\n",
      "zsxwing        297\n",
      "marmbrus       294\n",
      "lian cheng     286\n",
      "cloud_fan      256\n",
      "pwendell       255\n",
      "tdas           187\n",
      "matei          172\n",
      "vanzin         161\n",
      "Name: reporter, dtype: int64\n",
      "Column val_count reporter shape: (1207,)\n",
      "Series([], Name: resolution, dtype: int64)\n",
      "Column val_count resolution shape: (0,)\n",
      "Spark    11475\n",
      "Name: project, dtype: int64\n",
      "Column val_count project shape: (1,)\n",
      "2016-01-13T18:01:04.000+0000    11\n",
      "2014-10-06T23:06:02.000+0000    11\n",
      "2016-01-11T04:04:38.000+0000    10\n",
      "2014-10-26T18:24:53.000+0000     9\n",
      "2015-10-24T07:06:05.000+0000     8\n",
      "2015-01-15T09:08:41.000+0000     8\n",
      "2014-11-05T10:45:22.000+0000     8\n",
      "2016-11-01T22:15:25.000+0000     7\n",
      "2016-11-01T22:15:19.000+0000     7\n",
      "2014-11-05T10:45:26.000+0000     7\n",
      "2015-01-15T09:08:39.000+0000     7\n",
      "2016-11-01T22:15:15.000+0000     7\n",
      "2015-05-31T04:24:51.000+0000     7\n",
      "2016-11-01T22:15:08.000+0000     6\n",
      "2015-01-15T09:08:38.000+0000     6\n",
      "Name: updated, dtype: int64\n",
      "Column val_count updated shape: (9653,)\n",
      "2016-01-07T09:59:18.000+0000    11\n",
      "2014-02-16T14:31:49.000+0000    11\n",
      "2014-10-09T06:55:56.000+0000    10\n",
      "2014-05-08T06:49:49.000+0000     9\n",
      "2015-03-20T07:08:22.000+0000     8\n",
      "2015-05-28T22:05:19.000+0000     7\n",
      "2014-05-12T23:53:49.000+0000     6\n",
      "2014-08-06T00:02:10.000+0000     6\n",
      "2015-03-30T04:27:15.000+0000     6\n",
      "2014-11-14T07:41:06.000+0000     6\n",
      "2015-04-08T05:53:30.000+0000     6\n",
      "2016-10-28T22:42:44.000+0000     6\n",
      "2015-05-15T01:16:25.000+0000     5\n",
      "2016-01-08T22:21:01.000+0000     5\n",
      "2015-11-11T22:39:21.000+0000     5\n",
      "Name: created, dtype: int64\n",
      "Column val_count created shape: (9857,)\n",
      "2016-01-13T08:52:22.000+0000    11\n",
      "2014-06-13T17:53:43.000+0000    11\n",
      "2016-01-11T04:04:38.000+0000    10\n",
      "2014-10-26T18:24:53.000+0000     9\n",
      "2015-04-03T08:25:18.000+0000     8\n",
      "2015-05-29T06:01:11.000+0000     7\n",
      "2015-07-16T01:03:40.000+0000     6\n",
      "2014-11-21T18:07:12.000+0000     6\n",
      "2015-04-13T16:29:19.000+0000     6\n",
      "2014-11-12T05:38:16.000+0000     6\n",
      "2014-08-27T20:18:50.000+0000     6\n",
      "2015-05-19T21:25:13.000+0000     5\n",
      "2015-05-31T21:24:15.000+0000     5\n",
      "2012-12-30T14:54:56.000+0000     5\n",
      "2016-04-25T18:35:12.000+0000     5\n",
      "Name: resolved, dtype: int64\n",
      "Column val_count resolved shape: (9766,)\n",
      "SQL                     3934\n",
      "Spark Core              1273\n",
      "MLlib                    522\n",
      "ML                       414\n",
      "DStreams                 350\n",
      "PySpark                  327\n",
      "Build                    315\n",
      "Documentation            263\n",
      "SparkR                   260\n",
      "Web UI                   257\n",
      "YARN                     255\n",
      "ML,PySpark               152\n",
      "MLlib,PySpark            148\n",
      "Deploy                   101\n",
      "Structured Streaming      98\n",
      "Name: components, dtype: int64\n",
      "Column val_count components shape: (258,)\n",
      "3     6324\n",
      "1     2660\n",
      "5      972\n",
      "10     942\n",
      "0      577\n",
      "Name: severity, dtype: int64\n",
      "Column val_count severity shape: (5,)\n"
     ]
    }
   ],
   "source": [
    "val_count(df)"
   ]
  },
  {
   "cell_type": "code",
   "execution_count": 34,
   "metadata": {
    "ExecuteTime": {
     "end_time": "2018-06-07T09:56:41.664767Z",
     "start_time": "2018-06-07T09:56:41.654616Z"
    },
    "hidden": true,
    "run_control": {
     "marked": true
    }
   },
   "outputs": [
    {
     "data": {
      "text/html": [
       "<div>\n",
       "<style scoped>\n",
       "    .dataframe tbody tr th:only-of-type {\n",
       "        vertical-align: middle;\n",
       "    }\n",
       "\n",
       "    .dataframe tbody tr th {\n",
       "        vertical-align: top;\n",
       "    }\n",
       "\n",
       "    .dataframe thead th {\n",
       "        text-align: right;\n",
       "    }\n",
       "</style>\n",
       "<table border=\"1\" class=\"dataframe\">\n",
       "  <thead>\n",
       "    <tr style=\"text-align: right;\">\n",
       "      <th></th>\n",
       "      <th>9389</th>\n",
       "      <th>9426</th>\n",
       "      <th>9476</th>\n",
       "      <th>9480</th>\n",
       "      <th>9481</th>\n",
       "    </tr>\n",
       "  </thead>\n",
       "  <tbody>\n",
       "    <tr>\n",
       "      <th>key</th>\n",
       "      <td>SPARK-3886</td>\n",
       "      <td>SPARK-3796</td>\n",
       "      <td>SPARK-2805</td>\n",
       "      <td>SPARK-3002</td>\n",
       "      <td>SPARK-2924</td>\n",
       "    </tr>\n",
       "    <tr>\n",
       "      <th>cid</th>\n",
       "      <td>dff015533dd7b01b5e392f1ac5f3837e0a65f3f4</td>\n",
       "      <td>dff015533dd7b01b5e392f1ac5f3837e0a65f3f4</td>\n",
       "      <td>dff015533dd7b01b5e392f1ac5f3837e0a65f3f4</td>\n",
       "      <td>dff015533dd7b01b5e392f1ac5f3837e0a65f3f4</td>\n",
       "      <td>dff015533dd7b01b5e392f1ac5f3837e0a65f3f4</td>\n",
       "    </tr>\n",
       "    <tr>\n",
       "      <th>author_name</th>\n",
       "      <td>Reynold Xin</td>\n",
       "      <td>Reynold Xin</td>\n",
       "      <td>Reynold Xin</td>\n",
       "      <td>Reynold Xin</td>\n",
       "      <td>Reynold Xin</td>\n",
       "    </tr>\n",
       "    <tr>\n",
       "      <th>author_email</th>\n",
       "      <td>rxin@apache.org</td>\n",
       "      <td>rxin@apache.org</td>\n",
       "      <td>rxin@apache.org</td>\n",
       "      <td>rxin@apache.org</td>\n",
       "      <td>rxin@apache.org</td>\n",
       "    </tr>\n",
       "    <tr>\n",
       "      <th>committer_name</th>\n",
       "      <td>Reynold Xin</td>\n",
       "      <td>Reynold Xin</td>\n",
       "      <td>Reynold Xin</td>\n",
       "      <td>Reynold Xin</td>\n",
       "      <td>Reynold Xin</td>\n",
       "    </tr>\n",
       "    <tr>\n",
       "      <th>committer_email</th>\n",
       "      <td>rxin@databricks.com</td>\n",
       "      <td>rxin@databricks.com</td>\n",
       "      <td>rxin@databricks.com</td>\n",
       "      <td>rxin@databricks.com</td>\n",
       "      <td>rxin@databricks.com</td>\n",
       "    </tr>\n",
       "    <tr>\n",
       "      <th>time</th>\n",
       "      <td>1414607227</td>\n",
       "      <td>1414607227</td>\n",
       "      <td>1414607227</td>\n",
       "      <td>1414607227</td>\n",
       "      <td>1414607227</td>\n",
       "    </tr>\n",
       "    <tr>\n",
       "      <th>time_offset</th>\n",
       "      <td>-420</td>\n",
       "      <td>-420</td>\n",
       "      <td>-420</td>\n",
       "      <td>-420</td>\n",
       "      <td>-420</td>\n",
       "    </tr>\n",
       "    <tr>\n",
       "      <th>tree_id</th>\n",
       "      <td>4314afec5436543c277a04d034a94aac200a23d1</td>\n",
       "      <td>4314afec5436543c277a04d034a94aac200a23d1</td>\n",
       "      <td>4314afec5436543c277a04d034a94aac200a23d1</td>\n",
       "      <td>4314afec5436543c277a04d034a94aac200a23d1</td>\n",
       "      <td>4314afec5436543c277a04d034a94aac200a23d1</td>\n",
       "    </tr>\n",
       "    <tr>\n",
       "      <th>message_encoding</th>\n",
       "      <td>[SPARK-3453] Netty-based BlockTransferService,...</td>\n",
       "      <td>[SPARK-3453] Netty-based BlockTransferService,...</td>\n",
       "      <td>[SPARK-3453] Netty-based BlockTransferService,...</td>\n",
       "      <td>[SPARK-3453] Netty-based BlockTransferService,...</td>\n",
       "      <td>[SPARK-3453] Netty-based BlockTransferService,...</td>\n",
       "    </tr>\n",
       "    <tr>\n",
       "      <th>jira_id</th>\n",
       "      <td>12747147</td>\n",
       "      <td>12745938</td>\n",
       "      <td>12731577</td>\n",
       "      <td>12733691</td>\n",
       "      <td>12732770</td>\n",
       "    </tr>\n",
       "    <tr>\n",
       "      <th>status_category</th>\n",
       "      <td>Complete</td>\n",
       "      <td>Complete</td>\n",
       "      <td>Complete</td>\n",
       "      <td>Complete</td>\n",
       "      <td>Complete</td>\n",
       "    </tr>\n",
       "    <tr>\n",
       "      <th>creator</th>\n",
       "      <td>davies</td>\n",
       "      <td>pwendell</td>\n",
       "      <td>avati</td>\n",
       "      <td>rxin</td>\n",
       "      <td>pwendell</td>\n",
       "    </tr>\n",
       "    <tr>\n",
       "      <th>priority</th>\n",
       "      <td>Major</td>\n",
       "      <td>Major</td>\n",
       "      <td>Major</td>\n",
       "      <td>Major</td>\n",
       "      <td>Blocker</td>\n",
       "    </tr>\n",
       "    <tr>\n",
       "      <th>status</th>\n",
       "      <td>Resolved</td>\n",
       "      <td>Closed</td>\n",
       "      <td>Resolved</td>\n",
       "      <td>Resolved</td>\n",
       "      <td>Resolved</td>\n",
       "    </tr>\n",
       "    <tr>\n",
       "      <th>assignee</th>\n",
       "      <td>davies</td>\n",
       "      <td>adav</td>\n",
       "      <td>avati</td>\n",
       "      <td>rxin</td>\n",
       "      <td>avati</td>\n",
       "    </tr>\n",
       "    <tr>\n",
       "      <th>issuetype</th>\n",
       "      <td>Improvement</td>\n",
       "      <td>Sub-task</td>\n",
       "      <td>Sub-task</td>\n",
       "      <td>Sub-task</td>\n",
       "      <td>Sub-task</td>\n",
       "    </tr>\n",
       "    <tr>\n",
       "      <th>reporter</th>\n",
       "      <td>davies</td>\n",
       "      <td>pwendell</td>\n",
       "      <td>avati</td>\n",
       "      <td>rxin</td>\n",
       "      <td>pwendell</td>\n",
       "    </tr>\n",
       "    <tr>\n",
       "      <th>resolution</th>\n",
       "      <td>NaN</td>\n",
       "      <td>NaN</td>\n",
       "      <td>NaN</td>\n",
       "      <td>NaN</td>\n",
       "      <td>NaN</td>\n",
       "    </tr>\n",
       "    <tr>\n",
       "      <th>project</th>\n",
       "      <td>Spark</td>\n",
       "      <td>Spark</td>\n",
       "      <td>Spark</td>\n",
       "      <td>Spark</td>\n",
       "      <td>Spark</td>\n",
       "    </tr>\n",
       "    <tr>\n",
       "      <th>updated</th>\n",
       "      <td>2014-11-04T07:58:54.000+0000</td>\n",
       "      <td>2014-11-05T23:46:40.000+0000</td>\n",
       "      <td>2014-10-13T19:33:34.000+0000</td>\n",
       "      <td>2014-11-04T08:39:23.000+0000</td>\n",
       "      <td>2015-12-10T15:05:42.000+0000</td>\n",
       "    </tr>\n",
       "    <tr>\n",
       "      <th>created</th>\n",
       "      <td>2014-10-09T22:47:48.000+0000</td>\n",
       "      <td>2014-10-04T19:07:18.000+0000</td>\n",
       "      <td>2014-08-02T23:09:49.000+0000</td>\n",
       "      <td>2014-08-13T06:38:29.000+0000</td>\n",
       "      <td>2014-08-08T06:54:20.000+0000</td>\n",
       "    </tr>\n",
       "    <tr>\n",
       "      <th>resolved</th>\n",
       "      <td>2014-11-04T07:58:54.000+0000</td>\n",
       "      <td>2014-11-01T21:38:13.000+0000</td>\n",
       "      <td>2014-10-10T07:47:24.000+0000</td>\n",
       "      <td>2014-11-04T08:39:23.000+0000</td>\n",
       "      <td>2014-08-15T15:54:26.000+0000</td>\n",
       "    </tr>\n",
       "    <tr>\n",
       "      <th>components</th>\n",
       "      <td>NaN</td>\n",
       "      <td>Spark Core</td>\n",
       "      <td>Build,Spark Core</td>\n",
       "      <td>Shuffle,Spark Core</td>\n",
       "      <td>DStreams</td>\n",
       "    </tr>\n",
       "    <tr>\n",
       "      <th>severity</th>\n",
       "      <td>3</td>\n",
       "      <td>3</td>\n",
       "      <td>3</td>\n",
       "      <td>3</td>\n",
       "      <td>10</td>\n",
       "    </tr>\n",
       "  </tbody>\n",
       "</table>\n",
       "</div>"
      ],
      "text/plain": [
       "                                                               9389  \\\n",
       "key                                                      SPARK-3886   \n",
       "cid                        dff015533dd7b01b5e392f1ac5f3837e0a65f3f4   \n",
       "author_name                                             Reynold Xin   \n",
       "author_email                                        rxin@apache.org   \n",
       "committer_name                                          Reynold Xin   \n",
       "committer_email                                 rxin@databricks.com   \n",
       "time                                                     1414607227   \n",
       "time_offset                                                    -420   \n",
       "tree_id                    4314afec5436543c277a04d034a94aac200a23d1   \n",
       "message_encoding  [SPARK-3453] Netty-based BlockTransferService,...   \n",
       "jira_id                                                    12747147   \n",
       "status_category                                            Complete   \n",
       "creator                                                      davies   \n",
       "priority                                                      Major   \n",
       "status                                                     Resolved   \n",
       "assignee                                                     davies   \n",
       "issuetype                                               Improvement   \n",
       "reporter                                                     davies   \n",
       "resolution                                                      NaN   \n",
       "project                                                       Spark   \n",
       "updated                                2014-11-04T07:58:54.000+0000   \n",
       "created                                2014-10-09T22:47:48.000+0000   \n",
       "resolved                               2014-11-04T07:58:54.000+0000   \n",
       "components                                                      NaN   \n",
       "severity                                                          3   \n",
       "\n",
       "                                                               9426  \\\n",
       "key                                                      SPARK-3796   \n",
       "cid                        dff015533dd7b01b5e392f1ac5f3837e0a65f3f4   \n",
       "author_name                                             Reynold Xin   \n",
       "author_email                                        rxin@apache.org   \n",
       "committer_name                                          Reynold Xin   \n",
       "committer_email                                 rxin@databricks.com   \n",
       "time                                                     1414607227   \n",
       "time_offset                                                    -420   \n",
       "tree_id                    4314afec5436543c277a04d034a94aac200a23d1   \n",
       "message_encoding  [SPARK-3453] Netty-based BlockTransferService,...   \n",
       "jira_id                                                    12745938   \n",
       "status_category                                            Complete   \n",
       "creator                                                    pwendell   \n",
       "priority                                                      Major   \n",
       "status                                                       Closed   \n",
       "assignee                                                       adav   \n",
       "issuetype                                                  Sub-task   \n",
       "reporter                                                   pwendell   \n",
       "resolution                                                      NaN   \n",
       "project                                                       Spark   \n",
       "updated                                2014-11-05T23:46:40.000+0000   \n",
       "created                                2014-10-04T19:07:18.000+0000   \n",
       "resolved                               2014-11-01T21:38:13.000+0000   \n",
       "components                                               Spark Core   \n",
       "severity                                                          3   \n",
       "\n",
       "                                                               9476  \\\n",
       "key                                                      SPARK-2805   \n",
       "cid                        dff015533dd7b01b5e392f1ac5f3837e0a65f3f4   \n",
       "author_name                                             Reynold Xin   \n",
       "author_email                                        rxin@apache.org   \n",
       "committer_name                                          Reynold Xin   \n",
       "committer_email                                 rxin@databricks.com   \n",
       "time                                                     1414607227   \n",
       "time_offset                                                    -420   \n",
       "tree_id                    4314afec5436543c277a04d034a94aac200a23d1   \n",
       "message_encoding  [SPARK-3453] Netty-based BlockTransferService,...   \n",
       "jira_id                                                    12731577   \n",
       "status_category                                            Complete   \n",
       "creator                                                       avati   \n",
       "priority                                                      Major   \n",
       "status                                                     Resolved   \n",
       "assignee                                                      avati   \n",
       "issuetype                                                  Sub-task   \n",
       "reporter                                                      avati   \n",
       "resolution                                                      NaN   \n",
       "project                                                       Spark   \n",
       "updated                                2014-10-13T19:33:34.000+0000   \n",
       "created                                2014-08-02T23:09:49.000+0000   \n",
       "resolved                               2014-10-10T07:47:24.000+0000   \n",
       "components                                         Build,Spark Core   \n",
       "severity                                                          3   \n",
       "\n",
       "                                                               9480  \\\n",
       "key                                                      SPARK-3002   \n",
       "cid                        dff015533dd7b01b5e392f1ac5f3837e0a65f3f4   \n",
       "author_name                                             Reynold Xin   \n",
       "author_email                                        rxin@apache.org   \n",
       "committer_name                                          Reynold Xin   \n",
       "committer_email                                 rxin@databricks.com   \n",
       "time                                                     1414607227   \n",
       "time_offset                                                    -420   \n",
       "tree_id                    4314afec5436543c277a04d034a94aac200a23d1   \n",
       "message_encoding  [SPARK-3453] Netty-based BlockTransferService,...   \n",
       "jira_id                                                    12733691   \n",
       "status_category                                            Complete   \n",
       "creator                                                        rxin   \n",
       "priority                                                      Major   \n",
       "status                                                     Resolved   \n",
       "assignee                                                       rxin   \n",
       "issuetype                                                  Sub-task   \n",
       "reporter                                                       rxin   \n",
       "resolution                                                      NaN   \n",
       "project                                                       Spark   \n",
       "updated                                2014-11-04T08:39:23.000+0000   \n",
       "created                                2014-08-13T06:38:29.000+0000   \n",
       "resolved                               2014-11-04T08:39:23.000+0000   \n",
       "components                                       Shuffle,Spark Core   \n",
       "severity                                                          3   \n",
       "\n",
       "                                                               9481  \n",
       "key                                                      SPARK-2924  \n",
       "cid                        dff015533dd7b01b5e392f1ac5f3837e0a65f3f4  \n",
       "author_name                                             Reynold Xin  \n",
       "author_email                                        rxin@apache.org  \n",
       "committer_name                                          Reynold Xin  \n",
       "committer_email                                 rxin@databricks.com  \n",
       "time                                                     1414607227  \n",
       "time_offset                                                    -420  \n",
       "tree_id                    4314afec5436543c277a04d034a94aac200a23d1  \n",
       "message_encoding  [SPARK-3453] Netty-based BlockTransferService,...  \n",
       "jira_id                                                    12732770  \n",
       "status_category                                            Complete  \n",
       "creator                                                    pwendell  \n",
       "priority                                                    Blocker  \n",
       "status                                                     Resolved  \n",
       "assignee                                                      avati  \n",
       "issuetype                                                  Sub-task  \n",
       "reporter                                                   pwendell  \n",
       "resolution                                                      NaN  \n",
       "project                                                       Spark  \n",
       "updated                                2015-12-10T15:05:42.000+0000  \n",
       "created                                2014-08-08T06:54:20.000+0000  \n",
       "resolved                               2014-08-15T15:54:26.000+0000  \n",
       "components                                                 DStreams  \n",
       "severity                                                         10  "
      ]
     },
     "execution_count": 34,
     "metadata": {},
     "output_type": "execute_result"
    }
   ],
   "source": [
    "df[df['cid'] == 'dff015533dd7b01b5e392f1ac5f3837e0a65f3f4'].head().T"
   ]
  },
  {
   "cell_type": "code",
   "execution_count": 35,
   "metadata": {
    "ExecuteTime": {
     "end_time": "2018-06-07T09:56:41.680130Z",
     "start_time": "2018-06-07T09:56:41.665656Z"
    },
    "hidden": true,
    "run_control": {
     "marked": true
    }
   },
   "outputs": [
    {
     "data": {
      "text/html": [
       "<div>\n",
       "<style scoped>\n",
       "    .dataframe tbody tr th:only-of-type {\n",
       "        vertical-align: middle;\n",
       "    }\n",
       "\n",
       "    .dataframe tbody tr th {\n",
       "        vertical-align: top;\n",
       "    }\n",
       "\n",
       "    .dataframe thead th {\n",
       "        text-align: right;\n",
       "    }\n",
       "</style>\n",
       "<table border=\"1\" class=\"dataframe\">\n",
       "  <thead>\n",
       "    <tr style=\"text-align: right;\">\n",
       "      <th></th>\n",
       "      <th>7323</th>\n",
       "      <th>7324</th>\n",
       "      <th>7325</th>\n",
       "      <th>7326</th>\n",
       "      <th>7327</th>\n",
       "    </tr>\n",
       "  </thead>\n",
       "  <tbody>\n",
       "    <tr>\n",
       "      <th>key</th>\n",
       "      <td>SPARK-1097</td>\n",
       "      <td>SPARK-1097</td>\n",
       "      <td>SPARK-1097</td>\n",
       "      <td>SPARK-1097</td>\n",
       "      <td>SPARK-1097</td>\n",
       "    </tr>\n",
       "    <tr>\n",
       "      <th>cid</th>\n",
       "      <td>0ac8b01a07840f199bbc79fb845762284aead6de</td>\n",
       "      <td>f53a48827ef024f91b292132075e5598c9cb94bb</td>\n",
       "      <td>f5473c2bbf66cc1144a90b4c29f3ce54ad7cc419</td>\n",
       "      <td>e3eb393961051a48ed1cac756ac1928156aa161f</td>\n",
       "      <td>d3cbd38c33e6a2addcf8caa18eeb10036fbfd01b</td>\n",
       "    </tr>\n",
       "    <tr>\n",
       "      <th>author_name</th>\n",
       "      <td>Nishkam Ravi</td>\n",
       "      <td>Nishkam Ravi</td>\n",
       "      <td>Nishkam Ravi</td>\n",
       "      <td>Nishkam Ravi</td>\n",
       "      <td>Nishkam Ravi</td>\n",
       "    </tr>\n",
       "    <tr>\n",
       "      <th>author_email</th>\n",
       "      <td>nravi@cloudera.com</td>\n",
       "      <td>nravi@cloudera.com</td>\n",
       "      <td>nravi@cloudera.com</td>\n",
       "      <td>nravi@cloudera.com</td>\n",
       "      <td>nravi@cloudera.com</td>\n",
       "    </tr>\n",
       "    <tr>\n",
       "      <th>committer_name</th>\n",
       "      <td>Sean Owen</td>\n",
       "      <td>Sean Owen</td>\n",
       "      <td>Sean Owen</td>\n",
       "      <td>Sean Owen</td>\n",
       "      <td>Andrew Or</td>\n",
       "    </tr>\n",
       "    <tr>\n",
       "      <th>committer_email</th>\n",
       "      <td>sowen@cloudera.com</td>\n",
       "      <td>sowen@cloudera.com</td>\n",
       "      <td>sowen@cloudera.com</td>\n",
       "      <td>sowen@cloudera.com</td>\n",
       "      <td>andrew@databricks.com</td>\n",
       "    </tr>\n",
       "    <tr>\n",
       "      <th>time</th>\n",
       "      <td>1431761061</td>\n",
       "      <td>1430511333</td>\n",
       "      <td>1430006543</td>\n",
       "      <td>1427629237</td>\n",
       "      <td>1424541568</td>\n",
       "    </tr>\n",
       "    <tr>\n",
       "      <th>time_offset</th>\n",
       "      <td>60</td>\n",
       "      <td>60</td>\n",
       "      <td>-240</td>\n",
       "      <td>60</td>\n",
       "      <td>-480</td>\n",
       "    </tr>\n",
       "    <tr>\n",
       "      <th>tree_id</th>\n",
       "      <td>52ab777a4948a73b990c88dfddde919050d7716c</td>\n",
       "      <td>e1c846a4b9b9e41775c1955e7801f0f55b025963</td>\n",
       "      <td>1fe079f8f14d82cf403fc49a40121199d541a513</td>\n",
       "      <td>60f5f5e1a0223c8a65b067e2a8e0b0aefe0c2a65</td>\n",
       "      <td>898951bebe96056fce292344e497585a0e4586a6</td>\n",
       "    </tr>\n",
       "    <tr>\n",
       "      <th>message_encoding</th>\n",
       "      <td>[SPARK-7672] [CORE] Use int conversion in tran...</td>\n",
       "      <td>[SPARK-7213] [YARN] Check for read permissions...</td>\n",
       "      <td>[SPARK-6014] [CORE] [HOTFIX] Add try-catch blo...</td>\n",
       "      <td>[SPARK-6406] Launch Spark using assembly jar i...</td>\n",
       "      <td>SPARK-5841 [CORE] [HOTFIX 2] Memory leak in Di...</td>\n",
       "    </tr>\n",
       "    <tr>\n",
       "      <th>jira_id</th>\n",
       "      <td>12704582</td>\n",
       "      <td>12704582</td>\n",
       "      <td>12704582</td>\n",
       "      <td>12704582</td>\n",
       "      <td>12704582</td>\n",
       "    </tr>\n",
       "    <tr>\n",
       "      <th>status_category</th>\n",
       "      <td>Complete</td>\n",
       "      <td>Complete</td>\n",
       "      <td>Complete</td>\n",
       "      <td>Complete</td>\n",
       "      <td>Complete</td>\n",
       "    </tr>\n",
       "    <tr>\n",
       "      <th>creator</th>\n",
       "      <td>NaN</td>\n",
       "      <td>NaN</td>\n",
       "      <td>NaN</td>\n",
       "      <td>NaN</td>\n",
       "      <td>NaN</td>\n",
       "    </tr>\n",
       "    <tr>\n",
       "      <th>priority</th>\n",
       "      <td>Major</td>\n",
       "      <td>Major</td>\n",
       "      <td>Major</td>\n",
       "      <td>Major</td>\n",
       "      <td>Major</td>\n",
       "    </tr>\n",
       "    <tr>\n",
       "      <th>status</th>\n",
       "      <td>Resolved</td>\n",
       "      <td>Resolved</td>\n",
       "      <td>Resolved</td>\n",
       "      <td>Resolved</td>\n",
       "      <td>Resolved</td>\n",
       "    </tr>\n",
       "    <tr>\n",
       "      <th>assignee</th>\n",
       "      <td>colorant</td>\n",
       "      <td>colorant</td>\n",
       "      <td>colorant</td>\n",
       "      <td>colorant</td>\n",
       "      <td>colorant</td>\n",
       "    </tr>\n",
       "    <tr>\n",
       "      <th>issuetype</th>\n",
       "      <td>Bug</td>\n",
       "      <td>Bug</td>\n",
       "      <td>Bug</td>\n",
       "      <td>Bug</td>\n",
       "      <td>Bug</td>\n",
       "    </tr>\n",
       "    <tr>\n",
       "      <th>reporter</th>\n",
       "      <td>Mistobaan</td>\n",
       "      <td>Mistobaan</td>\n",
       "      <td>Mistobaan</td>\n",
       "      <td>Mistobaan</td>\n",
       "      <td>Mistobaan</td>\n",
       "    </tr>\n",
       "    <tr>\n",
       "      <th>resolution</th>\n",
       "      <td>NaN</td>\n",
       "      <td>NaN</td>\n",
       "      <td>NaN</td>\n",
       "      <td>NaN</td>\n",
       "      <td>NaN</td>\n",
       "    </tr>\n",
       "    <tr>\n",
       "      <th>project</th>\n",
       "      <td>Spark</td>\n",
       "      <td>Spark</td>\n",
       "      <td>Spark</td>\n",
       "      <td>Spark</td>\n",
       "      <td>Spark</td>\n",
       "    </tr>\n",
       "    <tr>\n",
       "      <th>updated</th>\n",
       "      <td>2014-10-06T23:06:02.000+0000</td>\n",
       "      <td>2014-10-06T23:06:02.000+0000</td>\n",
       "      <td>2014-10-06T23:06:02.000+0000</td>\n",
       "      <td>2014-10-06T23:06:02.000+0000</td>\n",
       "      <td>2014-10-06T23:06:02.000+0000</td>\n",
       "    </tr>\n",
       "    <tr>\n",
       "      <th>created</th>\n",
       "      <td>2014-02-16T14:31:49.000+0000</td>\n",
       "      <td>2014-02-16T14:31:49.000+0000</td>\n",
       "      <td>2014-02-16T14:31:49.000+0000</td>\n",
       "      <td>2014-02-16T14:31:49.000+0000</td>\n",
       "      <td>2014-02-16T14:31:49.000+0000</td>\n",
       "    </tr>\n",
       "    <tr>\n",
       "      <th>resolved</th>\n",
       "      <td>2014-06-13T17:53:43.000+0000</td>\n",
       "      <td>2014-06-13T17:53:43.000+0000</td>\n",
       "      <td>2014-06-13T17:53:43.000+0000</td>\n",
       "      <td>2014-06-13T17:53:43.000+0000</td>\n",
       "      <td>2014-06-13T17:53:43.000+0000</td>\n",
       "    </tr>\n",
       "    <tr>\n",
       "      <th>components</th>\n",
       "      <td>Spark Core</td>\n",
       "      <td>Spark Core</td>\n",
       "      <td>Spark Core</td>\n",
       "      <td>Spark Core</td>\n",
       "      <td>Spark Core</td>\n",
       "    </tr>\n",
       "    <tr>\n",
       "      <th>severity</th>\n",
       "      <td>3</td>\n",
       "      <td>3</td>\n",
       "      <td>3</td>\n",
       "      <td>3</td>\n",
       "      <td>3</td>\n",
       "    </tr>\n",
       "  </tbody>\n",
       "</table>\n",
       "</div>"
      ],
      "text/plain": [
       "                                                               7323  \\\n",
       "key                                                      SPARK-1097   \n",
       "cid                        0ac8b01a07840f199bbc79fb845762284aead6de   \n",
       "author_name                                            Nishkam Ravi   \n",
       "author_email                                     nravi@cloudera.com   \n",
       "committer_name                                            Sean Owen   \n",
       "committer_email                                  sowen@cloudera.com   \n",
       "time                                                     1431761061   \n",
       "time_offset                                                      60   \n",
       "tree_id                    52ab777a4948a73b990c88dfddde919050d7716c   \n",
       "message_encoding  [SPARK-7672] [CORE] Use int conversion in tran...   \n",
       "jira_id                                                    12704582   \n",
       "status_category                                            Complete   \n",
       "creator                                                         NaN   \n",
       "priority                                                      Major   \n",
       "status                                                     Resolved   \n",
       "assignee                                                   colorant   \n",
       "issuetype                                                       Bug   \n",
       "reporter                                                  Mistobaan   \n",
       "resolution                                                      NaN   \n",
       "project                                                       Spark   \n",
       "updated                                2014-10-06T23:06:02.000+0000   \n",
       "created                                2014-02-16T14:31:49.000+0000   \n",
       "resolved                               2014-06-13T17:53:43.000+0000   \n",
       "components                                               Spark Core   \n",
       "severity                                                          3   \n",
       "\n",
       "                                                               7324  \\\n",
       "key                                                      SPARK-1097   \n",
       "cid                        f53a48827ef024f91b292132075e5598c9cb94bb   \n",
       "author_name                                            Nishkam Ravi   \n",
       "author_email                                     nravi@cloudera.com   \n",
       "committer_name                                            Sean Owen   \n",
       "committer_email                                  sowen@cloudera.com   \n",
       "time                                                     1430511333   \n",
       "time_offset                                                      60   \n",
       "tree_id                    e1c846a4b9b9e41775c1955e7801f0f55b025963   \n",
       "message_encoding  [SPARK-7213] [YARN] Check for read permissions...   \n",
       "jira_id                                                    12704582   \n",
       "status_category                                            Complete   \n",
       "creator                                                         NaN   \n",
       "priority                                                      Major   \n",
       "status                                                     Resolved   \n",
       "assignee                                                   colorant   \n",
       "issuetype                                                       Bug   \n",
       "reporter                                                  Mistobaan   \n",
       "resolution                                                      NaN   \n",
       "project                                                       Spark   \n",
       "updated                                2014-10-06T23:06:02.000+0000   \n",
       "created                                2014-02-16T14:31:49.000+0000   \n",
       "resolved                               2014-06-13T17:53:43.000+0000   \n",
       "components                                               Spark Core   \n",
       "severity                                                          3   \n",
       "\n",
       "                                                               7325  \\\n",
       "key                                                      SPARK-1097   \n",
       "cid                        f5473c2bbf66cc1144a90b4c29f3ce54ad7cc419   \n",
       "author_name                                            Nishkam Ravi   \n",
       "author_email                                     nravi@cloudera.com   \n",
       "committer_name                                            Sean Owen   \n",
       "committer_email                                  sowen@cloudera.com   \n",
       "time                                                     1430006543   \n",
       "time_offset                                                    -240   \n",
       "tree_id                    1fe079f8f14d82cf403fc49a40121199d541a513   \n",
       "message_encoding  [SPARK-6014] [CORE] [HOTFIX] Add try-catch blo...   \n",
       "jira_id                                                    12704582   \n",
       "status_category                                            Complete   \n",
       "creator                                                         NaN   \n",
       "priority                                                      Major   \n",
       "status                                                     Resolved   \n",
       "assignee                                                   colorant   \n",
       "issuetype                                                       Bug   \n",
       "reporter                                                  Mistobaan   \n",
       "resolution                                                      NaN   \n",
       "project                                                       Spark   \n",
       "updated                                2014-10-06T23:06:02.000+0000   \n",
       "created                                2014-02-16T14:31:49.000+0000   \n",
       "resolved                               2014-06-13T17:53:43.000+0000   \n",
       "components                                               Spark Core   \n",
       "severity                                                          3   \n",
       "\n",
       "                                                               7326  \\\n",
       "key                                                      SPARK-1097   \n",
       "cid                        e3eb393961051a48ed1cac756ac1928156aa161f   \n",
       "author_name                                            Nishkam Ravi   \n",
       "author_email                                     nravi@cloudera.com   \n",
       "committer_name                                            Sean Owen   \n",
       "committer_email                                  sowen@cloudera.com   \n",
       "time                                                     1427629237   \n",
       "time_offset                                                      60   \n",
       "tree_id                    60f5f5e1a0223c8a65b067e2a8e0b0aefe0c2a65   \n",
       "message_encoding  [SPARK-6406] Launch Spark using assembly jar i...   \n",
       "jira_id                                                    12704582   \n",
       "status_category                                            Complete   \n",
       "creator                                                         NaN   \n",
       "priority                                                      Major   \n",
       "status                                                     Resolved   \n",
       "assignee                                                   colorant   \n",
       "issuetype                                                       Bug   \n",
       "reporter                                                  Mistobaan   \n",
       "resolution                                                      NaN   \n",
       "project                                                       Spark   \n",
       "updated                                2014-10-06T23:06:02.000+0000   \n",
       "created                                2014-02-16T14:31:49.000+0000   \n",
       "resolved                               2014-06-13T17:53:43.000+0000   \n",
       "components                                               Spark Core   \n",
       "severity                                                          3   \n",
       "\n",
       "                                                               7327  \n",
       "key                                                      SPARK-1097  \n",
       "cid                        d3cbd38c33e6a2addcf8caa18eeb10036fbfd01b  \n",
       "author_name                                            Nishkam Ravi  \n",
       "author_email                                     nravi@cloudera.com  \n",
       "committer_name                                            Andrew Or  \n",
       "committer_email                               andrew@databricks.com  \n",
       "time                                                     1424541568  \n",
       "time_offset                                                    -480  \n",
       "tree_id                    898951bebe96056fce292344e497585a0e4586a6  \n",
       "message_encoding  SPARK-5841 [CORE] [HOTFIX 2] Memory leak in Di...  \n",
       "jira_id                                                    12704582  \n",
       "status_category                                            Complete  \n",
       "creator                                                         NaN  \n",
       "priority                                                      Major  \n",
       "status                                                     Resolved  \n",
       "assignee                                                   colorant  \n",
       "issuetype                                                       Bug  \n",
       "reporter                                                  Mistobaan  \n",
       "resolution                                                      NaN  \n",
       "project                                                       Spark  \n",
       "updated                                2014-10-06T23:06:02.000+0000  \n",
       "created                                2014-02-16T14:31:49.000+0000  \n",
       "resolved                               2014-06-13T17:53:43.000+0000  \n",
       "components                                               Spark Core  \n",
       "severity                                                          3  "
      ]
     },
     "execution_count": 35,
     "metadata": {},
     "output_type": "execute_result"
    }
   ],
   "source": [
    "df[df['jira_id'] == 12704582].head().T "
   ]
  },
  {
   "cell_type": "code",
   "execution_count": 36,
   "metadata": {
    "ExecuteTime": {
     "end_time": "2018-06-07T09:56:41.703850Z",
     "start_time": "2018-06-07T09:56:41.681110Z"
    },
    "hidden": true,
    "run_control": {
     "marked": true
    },
    "scrolled": true
   },
   "outputs": [
    {
     "name": "stdout",
     "output_type": "stream",
     "text": [
      "Reynold Xin         720\n",
      "Davies Liu          489\n",
      "Josh Rosen          408\n",
      "Wenchen Fan         339\n",
      "Andrew Or           339\n",
      "Cheng Lian          336\n",
      "Xiangrui Meng       331\n",
      "Sean Owen           307\n",
      "Yin Huai            274\n",
      "Yanbo Liang         228\n",
      "zsxwing             221\n",
      "Liang-Chi Hsieh     215\n",
      "Marcelo Vanzin      205\n",
      "Michael Armbrust    204\n",
      "gatorsmile          189\n",
      "Name: author_name, dtype: int64\n",
      "Column val_count author_name shape: (1046,)\n",
      "rxin@databricks.com         581\n",
      "davies@databricks.com       415\n",
      "joshrosen@databricks.com    349\n",
      "meng@databricks.com         331\n",
      "sowen@cloudera.com          293\n",
      "andrew@databricks.com       271\n",
      "lian@databricks.com         267\n",
      "yhuai@databricks.com        240\n",
      "wenchen@databricks.com      230\n",
      "ybliang8@gmail.com          226\n",
      "zsxwing@gmail.com           221\n",
      "vanzin@cloudera.com         205\n",
      "michael@databricks.com      204\n",
      "gatorsmile@gmail.com        189\n",
      "dongjoon@apache.org         178\n",
      "Name: author_email, dtype: int64\n",
      "Column val_count author_email shape: (1072,)\n",
      "Reynold Xin              2100\n",
      "Xiangrui Meng            1072\n",
      "Michael Armbrust         1061\n",
      "Sean Owen                 936\n",
      "Andrew Or                 863\n",
      "Patrick Wendell           744\n",
      "Josh Rosen                599\n",
      "Davies Liu                572\n",
      "Yin Huai                  503\n",
      "Joseph K. Bradley         409\n",
      "Tathagata Das             374\n",
      "Cheng Lian                322\n",
      "Shivaram Venkataraman     269\n",
      "Matei Zaharia             229\n",
      "Wenchen Fan               228\n",
      "Name: committer_name, dtype: int64\n",
      "Column val_count committer_name shape: (61,)\n",
      "rxin@databricks.com            1766\n",
      "meng@databricks.com            1072\n",
      "michael@databricks.com         1061\n",
      "sowen@cloudera.com              935\n",
      "andrew@databricks.com           778\n",
      "pwendell@gmail.com              626\n",
      "davies.liu@gmail.com            515\n",
      "yhuai@databricks.com            503\n",
      "joshrosen@databricks.com        473\n",
      "joseph@databricks.com           409\n",
      "tathagata.das1565@gmail.com     373\n",
      "lian@databricks.com             322\n",
      "rxin@apache.org                 321\n",
      "shivaram@cs.berkeley.edu        268\n",
      "wenchen@databricks.com          228\n",
      "Name: committer_email, dtype: int64\n",
      "Column val_count committer_email shape: (82,)\n",
      "2014-10-29T21:27:07    13\n",
      "2015-06-12T03:06:21    13\n",
      "2015-07-09T21:11:34    12\n",
      "2015-07-19T08:48:05    11\n",
      "2014-08-15T06:01:33     9\n",
      "2016-08-19T08:16:48     9\n",
      "2015-07-09T01:51:01     6\n",
      "2015-07-30T23:21:46     6\n",
      "2015-07-21T08:38:05     6\n",
      "2014-10-30T00:01:00     6\n",
      "2014-08-11T22:54:09     5\n",
      "2015-07-22T09:26:11     5\n",
      "2015-07-27T12:15:35     5\n",
      "2014-11-26T03:07:09     5\n",
      "2014-06-13T23:59:48     5\n",
      "Name: time, dtype: int64\n",
      "Column val_count time shape: (10347,)\n",
      "-420    6891\n",
      "-480    2746\n",
      " 60      539\n",
      " 480     467\n",
      " 0       325\n",
      "-300     180\n",
      " 120     155\n",
      "-240      83\n",
      "-360      44\n",
      " 540      28\n",
      " 330      10\n",
      "-600       5\n",
      " 180       2\n",
      "Name: time_offset, dtype: int64\n",
      "Column val_count time_offset shape: (13,)\n",
      "3     6324\n",
      "1     2660\n",
      "5      972\n",
      "10     942\n",
      "0      577\n",
      "Name: severity, dtype: int64\n",
      "Column val_count severity shape: (5,)\n"
     ]
    }
   ],
   "source": [
    "val_count(peak)"
   ]
  },
  {
   "cell_type": "markdown",
   "metadata": {
    "hidden": true
   },
   "source": [
    "Made an decision to work deeper with peak instead of df, because of task."
   ]
  },
  {
   "cell_type": "markdown",
   "metadata": {
    "heading_collapsed": true
   },
   "source": [
    "#### Select columns: [Categorical, Numerical]"
   ]
  },
  {
   "cell_type": "code",
   "execution_count": 37,
   "metadata": {
    "ExecuteTime": {
     "end_time": "2018-06-07T09:56:41.711594Z",
     "start_time": "2018-06-07T09:56:41.704723Z"
    },
    "hidden": true,
    "run_control": {
     "marked": true
    }
   },
   "outputs": [],
   "source": [
    "cat_cols = list(peak.select_dtypes(include=['object']).columns)\n",
    "num_cols = list(peak.select_dtypes(exclude=['object']).columns)"
   ]
  },
  {
   "cell_type": "markdown",
   "metadata": {
    "heading_collapsed": true
   },
   "source": [
    "#### Categorical"
   ]
  },
  {
   "cell_type": "code",
   "execution_count": 38,
   "metadata": {
    "ExecuteTime": {
     "end_time": "2018-06-07T09:56:41.722444Z",
     "start_time": "2018-06-07T09:56:41.712595Z"
    },
    "hidden": true,
    "run_control": {
     "marked": true
    }
   },
   "outputs": [
    {
     "data": {
      "text/html": [
       "<div>\n",
       "<style scoped>\n",
       "    .dataframe tbody tr th:only-of-type {\n",
       "        vertical-align: middle;\n",
       "    }\n",
       "\n",
       "    .dataframe tbody tr th {\n",
       "        vertical-align: top;\n",
       "    }\n",
       "\n",
       "    .dataframe thead th {\n",
       "        text-align: right;\n",
       "    }\n",
       "</style>\n",
       "<table border=\"1\" class=\"dataframe\">\n",
       "  <thead>\n",
       "    <tr style=\"text-align: right;\">\n",
       "      <th></th>\n",
       "      <th>0</th>\n",
       "      <th>1</th>\n",
       "      <th>2</th>\n",
       "      <th>3</th>\n",
       "      <th>4</th>\n",
       "    </tr>\n",
       "  </thead>\n",
       "  <tbody>\n",
       "    <tr>\n",
       "      <th>author_name</th>\n",
       "      <td>gatorsmile</td>\n",
       "      <td>Reynold Xin</td>\n",
       "      <td>Reynold Xin</td>\n",
       "      <td>Eric Liang</td>\n",
       "      <td>Eric Liang</td>\n",
       "    </tr>\n",
       "    <tr>\n",
       "      <th>author_email</th>\n",
       "      <td>gatorsmile@gmail.com</td>\n",
       "      <td>rxin@databricks.com</td>\n",
       "      <td>rxin@databricks.com</td>\n",
       "      <td>ekl@databricks.com</td>\n",
       "      <td>ekl@databricks.com</td>\n",
       "    </tr>\n",
       "    <tr>\n",
       "      <th>committer_name</th>\n",
       "      <td>Reynold Xin</td>\n",
       "      <td>Reynold Xin</td>\n",
       "      <td>Reynold Xin</td>\n",
       "      <td>Yin Huai</td>\n",
       "      <td>Reynold Xin</td>\n",
       "    </tr>\n",
       "    <tr>\n",
       "      <th>committer_email</th>\n",
       "      <td>rxin@databricks.com</td>\n",
       "      <td>rxin@databricks.com</td>\n",
       "      <td>rxin@databricks.com</td>\n",
       "      <td>yhuai@databricks.com</td>\n",
       "      <td>rxin@databricks.com</td>\n",
       "    </tr>\n",
       "    <tr>\n",
       "      <th>time</th>\n",
       "      <td>2016-11-07T12:16:37</td>\n",
       "      <td>2016-11-07T09:44:55</td>\n",
       "      <td>2016-11-07T09:42:05</td>\n",
       "      <td>2016-11-05T01:54:28</td>\n",
       "      <td>2016-11-01T22:35:34</td>\n",
       "    </tr>\n",
       "    <tr>\n",
       "      <th>message_encoding</th>\n",
       "      <td>[SPARK-16904][SQL] Removal of Hive Built-in Ha...</td>\n",
       "      <td>[SPARK-18296][SQL] Use consistent naming for e...</td>\n",
       "      <td>[SPARK-18167][SQL] Disable flaky hive partitio...</td>\n",
       "      <td>[SPARK-18167] Re-enable the non-flaky parts of...</td>\n",
       "      <td>[SPARK-18167] Disable flaky SQLQuerySuite test...</td>\n",
       "    </tr>\n",
       "  </tbody>\n",
       "</table>\n",
       "</div>"
      ],
      "text/plain": [
       "                                                                  0  \\\n",
       "author_name                                              gatorsmile   \n",
       "author_email                                   gatorsmile@gmail.com   \n",
       "committer_name                                          Reynold Xin   \n",
       "committer_email                                 rxin@databricks.com   \n",
       "time                                            2016-11-07T12:16:37   \n",
       "message_encoding  [SPARK-16904][SQL] Removal of Hive Built-in Ha...   \n",
       "\n",
       "                                                                  1  \\\n",
       "author_name                                             Reynold Xin   \n",
       "author_email                                    rxin@databricks.com   \n",
       "committer_name                                          Reynold Xin   \n",
       "committer_email                                 rxin@databricks.com   \n",
       "time                                            2016-11-07T09:44:55   \n",
       "message_encoding  [SPARK-18296][SQL] Use consistent naming for e...   \n",
       "\n",
       "                                                                  2  \\\n",
       "author_name                                             Reynold Xin   \n",
       "author_email                                    rxin@databricks.com   \n",
       "committer_name                                          Reynold Xin   \n",
       "committer_email                                 rxin@databricks.com   \n",
       "time                                            2016-11-07T09:42:05   \n",
       "message_encoding  [SPARK-18167][SQL] Disable flaky hive partitio...   \n",
       "\n",
       "                                                                  3  \\\n",
       "author_name                                              Eric Liang   \n",
       "author_email                                     ekl@databricks.com   \n",
       "committer_name                                             Yin Huai   \n",
       "committer_email                                yhuai@databricks.com   \n",
       "time                                            2016-11-05T01:54:28   \n",
       "message_encoding  [SPARK-18167] Re-enable the non-flaky parts of...   \n",
       "\n",
       "                                                                  4  \n",
       "author_name                                              Eric Liang  \n",
       "author_email                                     ekl@databricks.com  \n",
       "committer_name                                          Reynold Xin  \n",
       "committer_email                                 rxin@databricks.com  \n",
       "time                                            2016-11-01T22:35:34  \n",
       "message_encoding  [SPARK-18167] Disable flaky SQLQuerySuite test...  "
      ]
     },
     "execution_count": 38,
     "metadata": {},
     "output_type": "execute_result"
    }
   ],
   "source": [
    "peak.loc[:,cat_cols].head().T"
   ]
  },
  {
   "cell_type": "markdown",
   "metadata": {
    "heading_collapsed": true
   },
   "source": [
    "#### Time features extraction"
   ]
  },
  {
   "cell_type": "code",
   "execution_count": 39,
   "metadata": {
    "ExecuteTime": {
     "end_time": "2018-06-07T09:56:41.726025Z",
     "start_time": "2018-06-07T09:56:41.723705Z"
    },
    "hidden": true,
    "run_control": {
     "marked": true
    }
   },
   "outputs": [],
   "source": [
    "import time"
   ]
  },
  {
   "cell_type": "code",
   "execution_count": 40,
   "metadata": {
    "ExecuteTime": {
     "end_time": "2018-06-07T09:56:41.732329Z",
     "start_time": "2018-06-07T09:56:41.727406Z"
    },
    "hidden": true,
    "run_control": {
     "marked": true
    }
   },
   "outputs": [],
   "source": [
    "def time_ext(df):\n",
    "    df['tm_year'] = df['time'].apply(lambda x: time.strptime(str(x), '%Y-%m-%dT%H:%M:%S')[0])\n",
    "    df['tm_mon'] = df['time'].apply(lambda x:  time.strptime(str(x), '%Y-%m-%dT%H:%M:%S')[1])\n",
    "    df['tm_mday'] = df['time'].apply(lambda x: time.strptime(str(x), '%Y-%m-%dT%H:%M:%S')[2])\n",
    "    df['tm_hour'] = df['time'].apply(lambda x: time.strptime(str(x), '%Y-%m-%dT%H:%M:%S')[3])\n",
    "    df['tm_wday'] = df['time'].apply(lambda x: time.strptime(str(x), '%Y-%m-%dT%H:%M:%S')[6])\n",
    "    df['tm_yday'] = df['time'].apply(lambda x: time.strptime(str(x), '%Y-%m-%dT%H:%M:%S')[7])\n",
    "    \n",
    "    df['time'] = pd.to_datetime(df['time'], format = '%Y-%m-%dT%H:%M:%S')\n",
    "    return df"
   ]
  },
  {
   "cell_type": "code",
   "execution_count": 41,
   "metadata": {
    "ExecuteTime": {
     "end_time": "2018-06-07T09:56:42.246572Z",
     "start_time": "2018-06-07T09:56:41.733243Z"
    },
    "hidden": true,
    "run_control": {
     "marked": true
    },
    "scrolled": true
   },
   "outputs": [],
   "source": [
    "peak = time_ext(peak)"
   ]
  },
  {
   "cell_type": "code",
   "execution_count": 42,
   "metadata": {
    "ExecuteTime": {
     "end_time": "2018-06-07T09:56:42.274470Z",
     "start_time": "2018-06-07T09:56:42.247608Z"
    },
    "hidden": true,
    "run_control": {
     "marked": true
    },
    "scrolled": true
   },
   "outputs": [
    {
     "name": "stdout",
     "output_type": "stream",
     "text": [
      "Reynold Xin         720\n",
      "Davies Liu          489\n",
      "Josh Rosen          408\n",
      "Wenchen Fan         339\n",
      "Andrew Or           339\n",
      "Cheng Lian          336\n",
      "Xiangrui Meng       331\n",
      "Sean Owen           307\n",
      "Yin Huai            274\n",
      "Yanbo Liang         228\n",
      "zsxwing             221\n",
      "Liang-Chi Hsieh     215\n",
      "Marcelo Vanzin      205\n",
      "Michael Armbrust    204\n",
      "gatorsmile          189\n",
      "Name: author_name, dtype: int64\n",
      "Column val_count author_name shape: (1046,)\n",
      "rxin@databricks.com         581\n",
      "davies@databricks.com       415\n",
      "joshrosen@databricks.com    349\n",
      "meng@databricks.com         331\n",
      "sowen@cloudera.com          293\n",
      "andrew@databricks.com       271\n",
      "lian@databricks.com         267\n",
      "yhuai@databricks.com        240\n",
      "wenchen@databricks.com      230\n",
      "ybliang8@gmail.com          226\n",
      "zsxwing@gmail.com           221\n",
      "vanzin@cloudera.com         205\n",
      "michael@databricks.com      204\n",
      "gatorsmile@gmail.com        189\n",
      "dongjoon@apache.org         178\n",
      "Name: author_email, dtype: int64\n",
      "Column val_count author_email shape: (1072,)\n",
      "Reynold Xin              2100\n",
      "Xiangrui Meng            1072\n",
      "Michael Armbrust         1061\n",
      "Sean Owen                 936\n",
      "Andrew Or                 863\n",
      "Patrick Wendell           744\n",
      "Josh Rosen                599\n",
      "Davies Liu                572\n",
      "Yin Huai                  503\n",
      "Joseph K. Bradley         409\n",
      "Tathagata Das             374\n",
      "Cheng Lian                322\n",
      "Shivaram Venkataraman     269\n",
      "Matei Zaharia             229\n",
      "Wenchen Fan               228\n",
      "Name: committer_name, dtype: int64\n",
      "Column val_count committer_name shape: (61,)\n",
      "rxin@databricks.com            1766\n",
      "meng@databricks.com            1072\n",
      "michael@databricks.com         1061\n",
      "sowen@cloudera.com              935\n",
      "andrew@databricks.com           778\n",
      "pwendell@gmail.com              626\n",
      "davies.liu@gmail.com            515\n",
      "yhuai@databricks.com            503\n",
      "joshrosen@databricks.com        473\n",
      "joseph@databricks.com           409\n",
      "tathagata.das1565@gmail.com     373\n",
      "lian@databricks.com             322\n",
      "rxin@apache.org                 321\n",
      "shivaram@cs.berkeley.edu        268\n",
      "wenchen@databricks.com          228\n",
      "Name: committer_email, dtype: int64\n",
      "Column val_count committer_email shape: (82,)\n",
      "2014-10-29 21:27:07    13\n",
      "2015-06-12 03:06:21    13\n",
      "2015-07-09 21:11:34    12\n",
      "2015-07-19 08:48:05    11\n",
      "2016-08-19 08:16:48     9\n",
      "2014-08-15 06:01:33     9\n",
      "2015-07-09 01:51:01     6\n",
      "2015-07-21 08:38:05     6\n",
      "2014-10-30 00:01:00     6\n",
      "2015-07-30 23:21:46     6\n",
      "2014-08-11 22:54:09     5\n",
      "2015-07-22 09:26:11     5\n",
      "2014-11-26 03:07:09     5\n",
      "2014-06-13 23:59:48     5\n",
      "2016-01-13 01:27:05     5\n",
      "Name: time, dtype: int64\n",
      "Column val_count time shape: (10347,)\n",
      "-420    6891\n",
      "-480    2746\n",
      " 60      539\n",
      " 480     467\n",
      " 0       325\n",
      "-300     180\n",
      " 120     155\n",
      "-240      83\n",
      "-360      44\n",
      " 540      28\n",
      " 330      10\n",
      "-600       5\n",
      " 180       2\n",
      "Name: time_offset, dtype: int64\n",
      "Column val_count time_offset shape: (13,)\n",
      "3     6324\n",
      "1     2660\n",
      "5      972\n",
      "10     942\n",
      "0      577\n",
      "Name: severity, dtype: int64\n",
      "Column val_count severity shape: (5,)\n",
      "2015    4985\n",
      "2016    3849\n",
      "2014    2452\n",
      "2013     171\n",
      "2012      18\n",
      "Name: tm_year, dtype: int64\n",
      "Column val_count tm_year shape: (5,)\n",
      "8     1257\n",
      "7     1226\n",
      "5     1200\n",
      "4     1116\n",
      "6     1073\n",
      "10     929\n",
      "11     900\n",
      "3      863\n",
      "2      832\n",
      "9      812\n",
      "1      661\n",
      "12     606\n",
      "Name: tm_mon, dtype: int64\n",
      "Column val_count tm_mon shape: (12,)\n",
      "3     446\n",
      "2     433\n",
      "11    424\n",
      "19    416\n",
      "30    404\n",
      "21    403\n",
      "18    401\n",
      "20    390\n",
      "1     388\n",
      "17    388\n",
      "9     385\n",
      "12    384\n",
      "10    383\n",
      "13    378\n",
      "27    377\n",
      "Name: tm_mday, dtype: int64\n",
      "Column val_count tm_mday shape: (31,)\n",
      "21    821\n",
      "23    809\n",
      "2     791\n",
      "0     774\n",
      "22    768\n",
      "1     705\n",
      "3     685\n",
      "4     597\n",
      "9     591\n",
      "20    589\n",
      "8     537\n",
      "10    489\n",
      "5     464\n",
      "7     464\n",
      "11    444\n",
      "Name: tm_hour, dtype: int64\n",
      "Column val_count tm_hour shape: (24,)\n",
      "1    2248\n",
      "2    2132\n",
      "3    2037\n",
      "4    2019\n",
      "0    1207\n",
      "5    1169\n",
      "6     663\n",
      "Name: tm_wday, dtype: int64\n",
      "Column val_count tm_wday shape: (7,)\n",
      "181    75\n",
      "190    75\n",
      "121    72\n",
      "132    70\n",
      "212    70\n",
      "202    69\n",
      "217    67\n",
      "211    64\n",
      "141    64\n",
      "307    64\n",
      "213    64\n",
      "118    62\n",
      "125    61\n",
      "218    61\n",
      "127    60\n",
      "Name: tm_yday, dtype: int64\n",
      "Column val_count tm_yday shape: (365,)\n"
     ]
    }
   ],
   "source": [
    "val_count(peak)"
   ]
  },
  {
   "cell_type": "code",
   "execution_count": 43,
   "metadata": {
    "ExecuteTime": {
     "end_time": "2018-06-07T09:56:42.619529Z",
     "start_time": "2018-06-07T09:56:42.275599Z"
    },
    "hidden": true,
    "run_control": {
     "marked": true
    },
    "scrolled": true
   },
   "outputs": [],
   "source": [
    "val_count(peak[['tm_year', 'tm_mon', 'tm_mday', 'tm_wday', 'tm_yday', 'tm_hour']], m_plot=True, name = 'time', show= False)"
   ]
  },
  {
   "cell_type": "code",
   "execution_count": 44,
   "metadata": {
    "ExecuteTime": {
     "end_time": "2018-06-07T09:56:43.389080Z",
     "start_time": "2018-06-07T09:56:42.620588Z"
    },
    "hidden": true,
    "run_control": {
     "marked": true
    }
   },
   "outputs": [
    {
     "data": {
      "image/png": "[encoded data removed]",
      "text/plain": [
       "<Figure size 432x576 with 1 Axes>"
      ]
     },
     "metadata": {},
     "output_type": "display_data"
    },
    {
     "data": {
      "image/png": "[encoded data removed]",
      "text/plain": [
       "<Figure size 432x576 with 1 Axes>"
      ]
     },
     "metadata": {},
     "output_type": "display_data"
    },
    {
     "data": {
      "image/png": "[encoded data removed]",
      "text/plain": [
       "<Figure size 432x576 with 1 Axes>"
      ]
     },
     "metadata": {},
     "output_type": "display_data"
    },
    {
     "data": {
      "image/png": "[encoded data removed]",
      "text/plain": [
       "<Figure size 432x576 with 1 Axes>"
      ]
     },
     "metadata": {},
     "output_type": "display_data"
    },
    {
     "data": {
      "image/png": "[encoded data removed]",
      "text/plain": [
       "<Figure size 432x576 with 1 Axes>"
      ]
     },
     "metadata": {},
     "output_type": "display_data"
    }
   ],
   "source": [
    "val_count(peak[cat_cols], m_plot=True, name = 'Categorical')"
   ]
  },
  {
   "cell_type": "markdown",
   "metadata": {
    "hidden": true
   },
   "source": [
    "Seems that merging on - key, not good idea, because we got a duplicates in columns jira_id, cid (symmetric to tree_id)"
   ]
  },
  {
   "cell_type": "markdown",
   "metadata": {
    "heading_collapsed": true
   },
   "source": [
    "#### Plotting\n",
    "In this step we will make plot of value count, for each email (author and committer), and save them."
   ]
  },
  {
   "cell_type": "code",
   "execution_count": 45,
   "metadata": {
    "ExecuteTime": {
     "end_time": "2018-06-07T09:56:43.484485Z",
     "start_time": "2018-06-07T09:56:43.390076Z"
    },
    "hidden": true,
    "run_control": {
     "marked": true
    }
   },
   "outputs": [
    {
     "ename": "ModuleNotFoundError",
     "evalue": "No module named 'tqdm'",
     "output_type": "error",
     "traceback": [
      "\u001b[0;31m---------------------------------------------------------------------------\u001b[0m",
      "\u001b[0;31mModuleNotFoundError\u001b[0m                       Traceback (most recent call last)",
      "\u001b[0;32m<ipython-input-45-decf43e5741c>\u001b[0m in \u001b[0;36m<module>\u001b[0;34m()\u001b[0m\n\u001b[0;32m----> 1\u001b[0;31m \u001b[0;32mfrom\u001b[0m \u001b[0mtqdm\u001b[0m \u001b[0;32mimport\u001b[0m \u001b[0mtqdm\u001b[0m\u001b[0;34m\u001b[0m\u001b[0m\n\u001b[0m",
      "\u001b[0;31mModuleNotFoundError\u001b[0m: No module named 'tqdm'"
     ]
    }
   ],
   "source": [
    "from tqdm import tqdm"
   ]
  },
  {
   "cell_type": "code",
   "execution_count": null,
   "metadata": {
    "ExecuteTime": {
     "end_time": "2018-06-07T09:56:43.485087Z",
     "start_time": "2018-06-07T09:56:40.012Z"
    },
    "hidden": true,
    "run_control": {
     "marked": false
    },
    "scrolled": true
   },
   "outputs": [],
   "source": [
    "%%capture\n",
    "for email in tqdm(peak['author_email'].unique()):\n",
    "    val_count(peak[peak['author_email'] == email], m_plot=True, name = 'by_email', dir_name = email, show = False)"
   ]
  },
  {
   "cell_type": "code",
   "execution_count": null,
   "metadata": {
    "ExecuteTime": {
     "end_time": "2018-06-07T09:56:43.486007Z",
     "start_time": "2018-06-07T09:56:40.013Z"
    },
    "hidden": true,
    "run_control": {
     "marked": false
    }
   },
   "outputs": [],
   "source": [
    "for email in tqdm(peak['committer_email'].unique()):\n",
    "    val_count(peak[peak['committer_email'] == email], m_plot=True, name = 'by_email_comm', dir_name = email, show = False)"
   ]
  },
  {
   "cell_type": "markdown",
   "metadata": {},
   "source": [
    "### Encoding text\n",
    "\n",
    "Without message_encoding column. We will fill them on the next step."
   ]
  },
  {
   "cell_type": "markdown",
   "metadata": {},
   "source": [
    "#### Extract addition feature from message_encoding\n",
    "\n",
    "I had thoughts about feature extracting from first words in message_encoding, to more clever merge on key, but they seems different sometime and got duplicates, dunno why."
   ]
  },
  {
   "cell_type": "code",
   "execution_count": null,
   "metadata": {
    "ExecuteTime": {
     "end_time": "2018-06-07T09:56:43.486617Z",
     "start_time": "2018-06-07T09:56:40.015Z"
    },
    "run_control": {
     "marked": true
    }
   },
   "outputs": [],
   "source": [
    "import re"
   ]
  },
  {
   "cell_type": "code",
   "execution_count": null,
   "metadata": {
    "ExecuteTime": {
     "end_time": "2018-06-07T09:56:43.487166Z",
     "start_time": "2018-06-07T09:56:40.017Z"
    },
    "run_control": {
     "marked": true
    },
    "scrolled": true
   },
   "outputs": [],
   "source": [
    "for i in range(len(df)):\n",
    "    test = re.sub(r'[^-\\w]',' ', (df['message_encoding'].loc[i].split()[0].split(' ')[0])).split()[0]\n",
    "    if test != df['key'].loc[i]:\n",
    "        print (test, df['key'].loc[i], i)\n",
    "        break"
   ]
  },
  {
   "cell_type": "code",
   "execution_count": null,
   "metadata": {
    "ExecuteTime": {
     "end_time": "2018-06-07T09:56:43.487666Z",
     "start_time": "2018-06-07T09:56:40.018Z"
    },
    "run_control": {
     "marked": true
    }
   },
   "outputs": [],
   "source": [
    "def text_lable_extr(x, ind = 0):\n",
    "    '''\n",
    "    Extracting features from the frist word of text.\n",
    "    '''\n",
    "    tmp = re.sub(r'[^-\\w]',' ', (x.split(' ')[0])).split()\n",
    "    if len(tmp) > ind:\n",
    "        return tmp[ind]\n",
    "    else:\n",
    "        return np.nan"
   ]
  },
  {
   "cell_type": "code",
   "execution_count": null,
   "metadata": {
    "ExecuteTime": {
     "end_time": "2018-06-07T09:56:43.488135Z",
     "start_time": "2018-06-07T09:56:40.020Z"
    },
    "run_control": {
     "marked": true
    }
   },
   "outputs": [],
   "source": [
    "peak['first_w'] = peak['message_encoding'].apply(lambda x: text_lable_extr(x, ind=0))\n",
    "val_count(peak[['first_w']], m_plot=True)"
   ]
  },
  {
   "cell_type": "code",
   "execution_count": null,
   "metadata": {
    "ExecuteTime": {
     "end_time": "2018-06-07T09:56:43.488654Z",
     "start_time": "2018-06-07T09:56:40.021Z"
    },
    "run_control": {
     "marked": true
    }
   },
   "outputs": [],
   "source": [
    "peak['second_w'] = peak['message_encoding'].apply(lambda x: text_lable_extr(x, ind=1))\n",
    "val_count(peak[['second_w']], m_plot=True)"
   ]
  },
  {
   "cell_type": "code",
   "execution_count": null,
   "metadata": {
    "ExecuteTime": {
     "end_time": "2018-06-07T09:56:43.489139Z",
     "start_time": "2018-06-07T09:56:40.022Z"
    },
    "run_control": {
     "marked": true
    }
   },
   "outputs": [],
   "source": [
    "#Just for test\n",
    "peak['third_w'] = peak['message_encoding'].apply(lambda x: text_lable_extr(x, ind=2))\n",
    "val_count(peak[['third_w']], m_plot=True)\n",
    "\n",
    "peak['fourth_w'] = peak['message_encoding'].apply(lambda x: text_lable_extr(x, ind=3))\n",
    "val_count(peak[['fourth_w']], m_plot=True)\n",
    "\n",
    "peak['fiveth_w'] = peak['message_encoding'].apply(lambda x: text_lable_extr(x, ind=4))\n",
    "val_count(peak[['fiveth_w']], m_plot=True)\n",
    "\n",
    "peak['sixth_w'] = peak['message_encoding'].apply(lambda x: text_lable_extr(x, ind=5))\n",
    "val_count(peak[['sixth_w']], m_plot=True)"
   ]
  },
  {
   "cell_type": "markdown",
   "metadata": {},
   "source": [
    "As we can see, after first word there are a lot of nans, not enough information for training."
   ]
  },
  {
   "cell_type": "code",
   "execution_count": null,
   "metadata": {
    "ExecuteTime": {
     "end_time": "2018-06-07T09:56:43.489708Z",
     "start_time": "2018-06-07T09:56:40.025Z"
    },
    "run_control": {
     "marked": true
    }
   },
   "outputs": [],
   "source": [
    "peak.head().T"
   ]
  },
  {
   "cell_type": "markdown",
   "metadata": {},
   "source": [
    "#### Fast clean\n",
    "\n",
    "We have tested some ideas, now we clear bad part of them. \n",
    "\n",
    "Because this dataset is Timeseries, let's treat it like it and replace index with time."
   ]
  },
  {
   "cell_type": "code",
   "execution_count": null,
   "metadata": {
    "ExecuteTime": {
     "end_time": "2018-06-07T09:56:43.490235Z",
     "start_time": "2018-06-07T09:56:40.026Z"
    },
    "run_control": {
     "marked": true
    }
   },
   "outputs": [],
   "source": [
    "peak.drop(index=peak[(peak['tm_year'] == 2012) | (peak['tm_year'] == 2013)].index, inplace=True)"
   ]
  },
  {
   "cell_type": "code",
   "execution_count": null,
   "metadata": {
    "ExecuteTime": {
     "end_time": "2018-06-07T09:56:43.490838Z",
     "start_time": "2018-06-07T09:56:40.028Z"
    },
    "run_control": {
     "marked": true
    }
   },
   "outputs": [],
   "source": [
    "peak.index = peak['time']\n",
    "peak.sort_index(inplace=True, ascending=True)\n",
    "peak.drop(columns = ['second_w', 'third_w', 'fourth_w', 'fiveth_w', 'sixth_w', 'time_offset', 'time'], inplace=True)"
   ]
  },
  {
   "cell_type": "code",
   "execution_count": null,
   "metadata": {
    "ExecuteTime": {
     "end_time": "2018-06-07T09:56:43.491391Z",
     "start_time": "2018-06-07T09:56:40.029Z"
    },
    "run_control": {
     "marked": true
    }
   },
   "outputs": [],
   "source": [
    "peak['message_encoding'] = peak['message_encoding'].apply(lambda x: ' '.join(x.split(' ')[1:]))"
   ]
  },
  {
   "cell_type": "markdown",
   "metadata": {
    "ExecuteTime": {
     "end_time": "2018-04-24T21:14:23.950555Z",
     "start_time": "2018-04-24T21:14:23.913780Z"
    }
   },
   "source": [
    "#### Labeling categorical features\n",
    "\n",
    "Replacing categorical text features with label\n",
    "\n",
    "Severity will be look like\n",
    " - 3 -> 2\n",
    " - 0 -> 0\n",
    " - 10 -> 4\n",
    " - 1 -> 1\n",
    " - 5 -> 3\n",
    "\n",
    "Four class, they look like:\n",
    "\n",
    "- 3 count = 6324\n",
    "- 1 count = 2660\n",
    "- 5 count = 972\n",
    "- 10 count = 942\n",
    "- 0 count = 577"
   ]
  },
  {
   "cell_type": "code",
   "execution_count": null,
   "metadata": {
    "ExecuteTime": {
     "end_time": "2018-06-07T09:56:43.491933Z",
     "start_time": "2018-06-07T09:56:40.030Z"
    },
    "run_control": {
     "marked": true
    }
   },
   "outputs": [],
   "source": [
    "from sklearn.preprocessing import LabelEncoder"
   ]
  },
  {
   "cell_type": "code",
   "execution_count": null,
   "metadata": {
    "ExecuteTime": {
     "end_time": "2018-06-07T09:56:43.492545Z",
     "start_time": "2018-06-07T09:56:40.032Z"
    },
    "run_control": {
     "marked": true
    }
   },
   "outputs": [],
   "source": [
    "for col in ['author_name', 'author_email', 'committer_name', 'committer_email', 'first_w', 'severity']:\n",
    "    peak[col] = LabelEncoder().fit_transform(peak[col].fillna('Empty'))"
   ]
  },
  {
   "cell_type": "code",
   "execution_count": null,
   "metadata": {
    "ExecuteTime": {
     "end_time": "2018-06-07T09:56:43.493214Z",
     "start_time": "2018-06-07T09:56:40.034Z"
    },
    "run_control": {
     "marked": true
    }
   },
   "outputs": [],
   "source": [
    "peak.head()"
   ]
  },
  {
   "cell_type": "markdown",
   "metadata": {},
   "source": [
    "### Train_test split\n",
    "\n",
    "Before text vectorizing, will perform split and then move to another notebook for predict. \n",
    "\n",
    "I took a couple of month for test."
   ]
  },
  {
   "cell_type": "code",
   "execution_count": null,
   "metadata": {
    "ExecuteTime": {
     "end_time": "2018-06-07T09:56:43.493981Z",
     "start_time": "2018-06-07T09:56:40.036Z"
    },
    "run_control": {
     "marked": true
    }
   },
   "outputs": [],
   "source": [
    "train_mask = (peak.index < pd.to_datetime('2016-8-01'))"
   ]
  },
  {
   "cell_type": "markdown",
   "metadata": {},
   "source": [
    "#### Compare and look deeper"
   ]
  },
  {
   "cell_type": "code",
   "execution_count": null,
   "metadata": {
    "ExecuteTime": {
     "end_time": "2018-06-07T09:56:43.494640Z",
     "start_time": "2018-06-07T09:56:40.038Z"
    },
    "run_control": {
     "marked": true
    }
   },
   "outputs": [],
   "source": [
    "val_count(peak[train_mask])"
   ]
  },
  {
   "cell_type": "code",
   "execution_count": null,
   "metadata": {
    "ExecuteTime": {
     "end_time": "2018-06-07T09:56:43.495320Z",
     "start_time": "2018-06-07T09:56:40.040Z"
    },
    "run_control": {
     "marked": true
    }
   },
   "outputs": [],
   "source": [
    "val_count(peak[~train_mask])"
   ]
  },
  {
   "cell_type": "code",
   "execution_count": null,
   "metadata": {
    "ExecuteTime": {
     "end_time": "2018-06-07T09:56:43.496091Z",
     "start_time": "2018-06-07T09:56:40.041Z"
    },
    "run_control": {
     "marked": true
    }
   },
   "outputs": [],
   "source": [
    "peak[train_mask].to_csv('data/train.csv')\n",
    "\n",
    "peak[~train_mask].to_csv('data/test.csv')"
   ]
  }
 ],
 "metadata": {
  "kernelspec": {
   "display_name": "Python 3",
   "language": "python",
   "name": "python3"
  },
  "language_info": {
   "codemirror_mode": {
    "name": "ipython",
    "version": 3
   },
   "file_extension": ".py",
   "mimetype": "text/x-python",
   "name": "python",
   "nbconvert_exporter": "python",
   "pygments_lexer": "ipython3",
   "version": "3.6.4"
  },
  "toc": {
   "base_numbering": 1,
   "nav_menu": {},
   "number_sections": true,
   "sideBar": true,
   "skip_h1_title": false,
   "title_cell": "Content",
   "title_sidebar": "Contents",
   "toc_cell": true,
   "toc_position": {},
   "toc_section_display": true,
   "toc_window_display": true
  },
  "varInspector": {
   "cols": {
    "lenName": 16,
    "lenType": 16,
    "lenVar": 40
   },
   "kernels_config": {
    "python": {
     "delete_cmd_postfix": "",
     "delete_cmd_prefix": "del ",
     "library": "var_list.py",
     "varRefreshCmd": "print(var_dic_list())"
    },
    "r": {
     "delete_cmd_postfix": ") ",
     "delete_cmd_prefix": "rm(",
     "library": "var_list.r",
     "varRefreshCmd": "cat(var_dic_list()) "
    }
   },
   "types_to_exclude": [
    "module",
    "function",
    "builtin_function_or_method",
    "instance",
    "_Feature"
   ],
   "window_display": false
  }
 },
 "nbformat": 4,
 "nbformat_minor": 2
}
